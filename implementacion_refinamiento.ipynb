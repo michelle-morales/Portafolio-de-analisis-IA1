{
  "nbformat": 4,
  "nbformat_minor": 0,
  "metadata": {
    "colab": {
      "provenance": []
    },
    "kernelspec": {
      "name": "python3",
      "display_name": "Python 3"
    },
    "language_info": {
      "name": "python"
    }
  },
  "cells": [
    {
      "cell_type": "markdown",
      "source": [
        "# **Implementacion de regresión lineal (Refinamiento)**\n",
        "\n",
        "Michelle Yareni Morales Ramón A01552627"
      ],
      "metadata": {
        "id": "gqfeNdGwlrfy"
      }
    },
    {
      "cell_type": "code",
      "execution_count": null,
      "metadata": {
        "id": "_sZ6LeczlmpY"
      },
      "outputs": [],
      "source": [
        "#librerias\n",
        "import pandas as pd\n",
        "import numpy as np\n",
        "from scipy.stats import pearsonr\n",
        "from sklearn.linear_model import LinearRegression\n",
        "from sklearn.linear_model import SGDRegressor\n",
        "from sklearn.model_selection import train_test_split\n",
        "from sklearn.metrics import r2_score\n",
        "from sklearn.metrics import mean_squared_error\n",
        "from sklearn.metrics import mean_absolute_error\n",
        "from sklearn.metrics import r2_score\n",
        "import statsmodels.api as sm\n",
        "import statsmodels.formula.api as smf\n",
        "import matplotlib.pyplot as plt\n",
        "from sklearn.model_selection import cross_val_score\n",
        "\n"
      ]
    },
    {
      "cell_type": "markdown",
      "source": [
        "**Importar datos**\n",
        "\n",
        "Para este entregable se hizo uso del dataset 'CO2 emissions by vehicles',\n",
        "\n",
        "Base en kaggle: https://www.kaggle.com/datasets/debajyotipodder/co2-emission-by-vehicles  \n",
        "\n",
        "Base en el repositorio: https://github.com/michelle-morales/Portafolio-implementacion-IA-1/blob/main/co2_prueba.csv"
      ],
      "metadata": {
        "id": "IdLodQw-M0rV"
      }
    },
    {
      "cell_type": "code",
      "source": [
        "#lectura de datos\n",
        "from google.colab import drive\n",
        "drive.mount('/content/gdrive')\n",
        "df=pd.read_csv('/content/gdrive/MyDrive/IA_concentracion/co2_prueba.csv')"
      ],
      "metadata": {
        "colab": {
          "base_uri": "https://localhost:8080/"
        },
        "id": "6qc4N93JlvI3",
        "outputId": "6ed62748-b645-4064-c2b4-38dec24dfd45"
      },
      "execution_count": null,
      "outputs": [
        {
          "output_type": "stream",
          "name": "stdout",
          "text": [
            "Mounted at /content/gdrive\n"
          ]
        }
      ]
    },
    {
      "cell_type": "markdown",
      "source": [
        "**Descripción del problema**\n",
        "\n",
        "En este entregable se abordará el mismo problema sobre modelar una relación entre una variable que se quiere predecir, 'CO2 Emissions(g/km)', y alguna variable que influya en ella. Se usó la técnica de regresión lineal, porque se busca establecer una ecuación que mejore el ajuste de los datos y de esta manera poder hacer predicciones o estimaciones. Este entregable específicamente es para refinar el modelo que ya se había implementado anteriormente."
      ],
      "metadata": {
        "id": "kWUu1f6rtFPs"
      }
    },
    {
      "cell_type": "code",
      "source": [
        "df.describe()"
      ],
      "metadata": {
        "colab": {
          "base_uri": "https://localhost:8080/",
          "height": 318
        },
        "id": "0hLjeZHindod",
        "outputId": "69991b11-8c17-43b4-ad1c-6c155209d1e9"
      },
      "execution_count": null,
      "outputs": [
        {
          "output_type": "execute_result",
          "data": {
            "text/plain": [
              "       Engine Size(L)    Cylinders  Fuel Consumption City (L/100 km)  \\\n",
              "count     7385.000000  7385.000000                       7385.000000   \n",
              "mean         3.160068     5.615030                         12.556534   \n",
              "std          1.354170     1.828307                          3.500274   \n",
              "min          0.900000     3.000000                          4.200000   \n",
              "25%          2.000000     4.000000                         10.100000   \n",
              "50%          3.000000     6.000000                         12.100000   \n",
              "75%          3.700000     6.000000                         14.600000   \n",
              "max          8.400000    16.000000                         30.600000   \n",
              "\n",
              "       Fuel Consumption Hwy (L/100 km)  Fuel Consumption Comb (L/100 km)  \\\n",
              "count                      7385.000000                       7385.000000   \n",
              "mean                          9.041706                         10.975071   \n",
              "std                           2.224456                          2.892506   \n",
              "min                           4.000000                          4.100000   \n",
              "25%                           7.500000                          8.900000   \n",
              "50%                           8.700000                         10.600000   \n",
              "75%                          10.200000                         12.600000   \n",
              "max                          20.600000                         26.100000   \n",
              "\n",
              "       Fuel Consumption Comb (mpg)  CO2 Emissions(g/km)  \n",
              "count                  7385.000000          7385.000000  \n",
              "mean                     27.481652           250.584699  \n",
              "std                       7.231879            58.512679  \n",
              "min                      11.000000            96.000000  \n",
              "25%                      22.000000           208.000000  \n",
              "50%                      27.000000           246.000000  \n",
              "75%                      32.000000           288.000000  \n",
              "max                      69.000000           522.000000  "
            ],
            "text/html": [
              "\n",
              "  <div id=\"df-4802575e-0035-4cd0-8b97-a6d47d0aebf2\" class=\"colab-df-container\">\n",
              "    <div>\n",
              "<style scoped>\n",
              "    .dataframe tbody tr th:only-of-type {\n",
              "        vertical-align: middle;\n",
              "    }\n",
              "\n",
              "    .dataframe tbody tr th {\n",
              "        vertical-align: top;\n",
              "    }\n",
              "\n",
              "    .dataframe thead th {\n",
              "        text-align: right;\n",
              "    }\n",
              "</style>\n",
              "<table border=\"1\" class=\"dataframe\">\n",
              "  <thead>\n",
              "    <tr style=\"text-align: right;\">\n",
              "      <th></th>\n",
              "      <th>Engine Size(L)</th>\n",
              "      <th>Cylinders</th>\n",
              "      <th>Fuel Consumption City (L/100 km)</th>\n",
              "      <th>Fuel Consumption Hwy (L/100 km)</th>\n",
              "      <th>Fuel Consumption Comb (L/100 km)</th>\n",
              "      <th>Fuel Consumption Comb (mpg)</th>\n",
              "      <th>CO2 Emissions(g/km)</th>\n",
              "    </tr>\n",
              "  </thead>\n",
              "  <tbody>\n",
              "    <tr>\n",
              "      <th>count</th>\n",
              "      <td>7385.000000</td>\n",
              "      <td>7385.000000</td>\n",
              "      <td>7385.000000</td>\n",
              "      <td>7385.000000</td>\n",
              "      <td>7385.000000</td>\n",
              "      <td>7385.000000</td>\n",
              "      <td>7385.000000</td>\n",
              "    </tr>\n",
              "    <tr>\n",
              "      <th>mean</th>\n",
              "      <td>3.160068</td>\n",
              "      <td>5.615030</td>\n",
              "      <td>12.556534</td>\n",
              "      <td>9.041706</td>\n",
              "      <td>10.975071</td>\n",
              "      <td>27.481652</td>\n",
              "      <td>250.584699</td>\n",
              "    </tr>\n",
              "    <tr>\n",
              "      <th>std</th>\n",
              "      <td>1.354170</td>\n",
              "      <td>1.828307</td>\n",
              "      <td>3.500274</td>\n",
              "      <td>2.224456</td>\n",
              "      <td>2.892506</td>\n",
              "      <td>7.231879</td>\n",
              "      <td>58.512679</td>\n",
              "    </tr>\n",
              "    <tr>\n",
              "      <th>min</th>\n",
              "      <td>0.900000</td>\n",
              "      <td>3.000000</td>\n",
              "      <td>4.200000</td>\n",
              "      <td>4.000000</td>\n",
              "      <td>4.100000</td>\n",
              "      <td>11.000000</td>\n",
              "      <td>96.000000</td>\n",
              "    </tr>\n",
              "    <tr>\n",
              "      <th>25%</th>\n",
              "      <td>2.000000</td>\n",
              "      <td>4.000000</td>\n",
              "      <td>10.100000</td>\n",
              "      <td>7.500000</td>\n",
              "      <td>8.900000</td>\n",
              "      <td>22.000000</td>\n",
              "      <td>208.000000</td>\n",
              "    </tr>\n",
              "    <tr>\n",
              "      <th>50%</th>\n",
              "      <td>3.000000</td>\n",
              "      <td>6.000000</td>\n",
              "      <td>12.100000</td>\n",
              "      <td>8.700000</td>\n",
              "      <td>10.600000</td>\n",
              "      <td>27.000000</td>\n",
              "      <td>246.000000</td>\n",
              "    </tr>\n",
              "    <tr>\n",
              "      <th>75%</th>\n",
              "      <td>3.700000</td>\n",
              "      <td>6.000000</td>\n",
              "      <td>14.600000</td>\n",
              "      <td>10.200000</td>\n",
              "      <td>12.600000</td>\n",
              "      <td>32.000000</td>\n",
              "      <td>288.000000</td>\n",
              "    </tr>\n",
              "    <tr>\n",
              "      <th>max</th>\n",
              "      <td>8.400000</td>\n",
              "      <td>16.000000</td>\n",
              "      <td>30.600000</td>\n",
              "      <td>20.600000</td>\n",
              "      <td>26.100000</td>\n",
              "      <td>69.000000</td>\n",
              "      <td>522.000000</td>\n",
              "    </tr>\n",
              "  </tbody>\n",
              "</table>\n",
              "</div>\n",
              "    <div class=\"colab-df-buttons\">\n",
              "\n",
              "  <div class=\"colab-df-container\">\n",
              "    <button class=\"colab-df-convert\" onclick=\"convertToInteractive('df-4802575e-0035-4cd0-8b97-a6d47d0aebf2')\"\n",
              "            title=\"Convert this dataframe to an interactive table.\"\n",
              "            style=\"display:none;\">\n",
              "\n",
              "  <svg xmlns=\"http://www.w3.org/2000/svg\" height=\"24px\" viewBox=\"0 -960 960 960\">\n",
              "    <path d=\"M120-120v-720h720v720H120Zm60-500h600v-160H180v160Zm220 220h160v-160H400v160Zm0 220h160v-160H400v160ZM180-400h160v-160H180v160Zm440 0h160v-160H620v160ZM180-180h160v-160H180v160Zm440 0h160v-160H620v160Z\"/>\n",
              "  </svg>\n",
              "    </button>\n",
              "\n",
              "  <style>\n",
              "    .colab-df-container {\n",
              "      display:flex;\n",
              "      gap: 12px;\n",
              "    }\n",
              "\n",
              "    .colab-df-convert {\n",
              "      background-color: #E8F0FE;\n",
              "      border: none;\n",
              "      border-radius: 50%;\n",
              "      cursor: pointer;\n",
              "      display: none;\n",
              "      fill: #1967D2;\n",
              "      height: 32px;\n",
              "      padding: 0 0 0 0;\n",
              "      width: 32px;\n",
              "    }\n",
              "\n",
              "    .colab-df-convert:hover {\n",
              "      background-color: #E2EBFA;\n",
              "      box-shadow: 0px 1px 2px rgba(60, 64, 67, 0.3), 0px 1px 3px 1px rgba(60, 64, 67, 0.15);\n",
              "      fill: #174EA6;\n",
              "    }\n",
              "\n",
              "    .colab-df-buttons div {\n",
              "      margin-bottom: 4px;\n",
              "    }\n",
              "\n",
              "    [theme=dark] .colab-df-convert {\n",
              "      background-color: #3B4455;\n",
              "      fill: #D2E3FC;\n",
              "    }\n",
              "\n",
              "    [theme=dark] .colab-df-convert:hover {\n",
              "      background-color: #434B5C;\n",
              "      box-shadow: 0px 1px 3px 1px rgba(0, 0, 0, 0.15);\n",
              "      filter: drop-shadow(0px 1px 2px rgba(0, 0, 0, 0.3));\n",
              "      fill: #FFFFFF;\n",
              "    }\n",
              "  </style>\n",
              "\n",
              "    <script>\n",
              "      const buttonEl =\n",
              "        document.querySelector('#df-4802575e-0035-4cd0-8b97-a6d47d0aebf2 button.colab-df-convert');\n",
              "      buttonEl.style.display =\n",
              "        google.colab.kernel.accessAllowed ? 'block' : 'none';\n",
              "\n",
              "      async function convertToInteractive(key) {\n",
              "        const element = document.querySelector('#df-4802575e-0035-4cd0-8b97-a6d47d0aebf2');\n",
              "        const dataTable =\n",
              "          await google.colab.kernel.invokeFunction('convertToInteractive',\n",
              "                                                    [key], {});\n",
              "        if (!dataTable) return;\n",
              "\n",
              "        const docLinkHtml = 'Like what you see? Visit the ' +\n",
              "          '<a target=\"_blank\" href=https://colab.research.google.com/notebooks/data_table.ipynb>data table notebook</a>'\n",
              "          + ' to learn more about interactive tables.';\n",
              "        element.innerHTML = '';\n",
              "        dataTable['output_type'] = 'display_data';\n",
              "        await google.colab.output.renderOutput(dataTable, element);\n",
              "        const docLink = document.createElement('div');\n",
              "        docLink.innerHTML = docLinkHtml;\n",
              "        element.appendChild(docLink);\n",
              "      }\n",
              "    </script>\n",
              "  </div>\n",
              "\n",
              "\n",
              "<div id=\"df-59d24a08-998f-4975-ae06-698b72670a9f\">\n",
              "  <button class=\"colab-df-quickchart\" onclick=\"quickchart('df-59d24a08-998f-4975-ae06-698b72670a9f')\"\n",
              "            title=\"Suggest charts.\"\n",
              "            style=\"display:none;\">\n",
              "\n",
              "<svg xmlns=\"http://www.w3.org/2000/svg\" height=\"24px\"viewBox=\"0 0 24 24\"\n",
              "     width=\"24px\">\n",
              "    <g>\n",
              "        <path d=\"M19 3H5c-1.1 0-2 .9-2 2v14c0 1.1.9 2 2 2h14c1.1 0 2-.9 2-2V5c0-1.1-.9-2-2-2zM9 17H7v-7h2v7zm4 0h-2V7h2v10zm4 0h-2v-4h2v4z\"/>\n",
              "    </g>\n",
              "</svg>\n",
              "  </button>\n",
              "\n",
              "<style>\n",
              "  .colab-df-quickchart {\n",
              "      --bg-color: #E8F0FE;\n",
              "      --fill-color: #1967D2;\n",
              "      --hover-bg-color: #E2EBFA;\n",
              "      --hover-fill-color: #174EA6;\n",
              "      --disabled-fill-color: #AAA;\n",
              "      --disabled-bg-color: #DDD;\n",
              "  }\n",
              "\n",
              "  [theme=dark] .colab-df-quickchart {\n",
              "      --bg-color: #3B4455;\n",
              "      --fill-color: #D2E3FC;\n",
              "      --hover-bg-color: #434B5C;\n",
              "      --hover-fill-color: #FFFFFF;\n",
              "      --disabled-bg-color: #3B4455;\n",
              "      --disabled-fill-color: #666;\n",
              "  }\n",
              "\n",
              "  .colab-df-quickchart {\n",
              "    background-color: var(--bg-color);\n",
              "    border: none;\n",
              "    border-radius: 50%;\n",
              "    cursor: pointer;\n",
              "    display: none;\n",
              "    fill: var(--fill-color);\n",
              "    height: 32px;\n",
              "    padding: 0;\n",
              "    width: 32px;\n",
              "  }\n",
              "\n",
              "  .colab-df-quickchart:hover {\n",
              "    background-color: var(--hover-bg-color);\n",
              "    box-shadow: 0 1px 2px rgba(60, 64, 67, 0.3), 0 1px 3px 1px rgba(60, 64, 67, 0.15);\n",
              "    fill: var(--button-hover-fill-color);\n",
              "  }\n",
              "\n",
              "  .colab-df-quickchart-complete:disabled,\n",
              "  .colab-df-quickchart-complete:disabled:hover {\n",
              "    background-color: var(--disabled-bg-color);\n",
              "    fill: var(--disabled-fill-color);\n",
              "    box-shadow: none;\n",
              "  }\n",
              "\n",
              "  .colab-df-spinner {\n",
              "    border: 2px solid var(--fill-color);\n",
              "    border-color: transparent;\n",
              "    border-bottom-color: var(--fill-color);\n",
              "    animation:\n",
              "      spin 1s steps(1) infinite;\n",
              "  }\n",
              "\n",
              "  @keyframes spin {\n",
              "    0% {\n",
              "      border-color: transparent;\n",
              "      border-bottom-color: var(--fill-color);\n",
              "      border-left-color: var(--fill-color);\n",
              "    }\n",
              "    20% {\n",
              "      border-color: transparent;\n",
              "      border-left-color: var(--fill-color);\n",
              "      border-top-color: var(--fill-color);\n",
              "    }\n",
              "    30% {\n",
              "      border-color: transparent;\n",
              "      border-left-color: var(--fill-color);\n",
              "      border-top-color: var(--fill-color);\n",
              "      border-right-color: var(--fill-color);\n",
              "    }\n",
              "    40% {\n",
              "      border-color: transparent;\n",
              "      border-right-color: var(--fill-color);\n",
              "      border-top-color: var(--fill-color);\n",
              "    }\n",
              "    60% {\n",
              "      border-color: transparent;\n",
              "      border-right-color: var(--fill-color);\n",
              "    }\n",
              "    80% {\n",
              "      border-color: transparent;\n",
              "      border-right-color: var(--fill-color);\n",
              "      border-bottom-color: var(--fill-color);\n",
              "    }\n",
              "    90% {\n",
              "      border-color: transparent;\n",
              "      border-bottom-color: var(--fill-color);\n",
              "    }\n",
              "  }\n",
              "</style>\n",
              "\n",
              "  <script>\n",
              "    async function quickchart(key) {\n",
              "      const quickchartButtonEl =\n",
              "        document.querySelector('#' + key + ' button');\n",
              "      quickchartButtonEl.disabled = true;  // To prevent multiple clicks.\n",
              "      quickchartButtonEl.classList.add('colab-df-spinner');\n",
              "      try {\n",
              "        const charts = await google.colab.kernel.invokeFunction(\n",
              "            'suggestCharts', [key], {});\n",
              "      } catch (error) {\n",
              "        console.error('Error during call to suggestCharts:', error);\n",
              "      }\n",
              "      quickchartButtonEl.classList.remove('colab-df-spinner');\n",
              "      quickchartButtonEl.classList.add('colab-df-quickchart-complete');\n",
              "    }\n",
              "    (() => {\n",
              "      let quickchartButtonEl =\n",
              "        document.querySelector('#df-59d24a08-998f-4975-ae06-698b72670a9f button');\n",
              "      quickchartButtonEl.style.display =\n",
              "        google.colab.kernel.accessAllowed ? 'block' : 'none';\n",
              "    })();\n",
              "  </script>\n",
              "</div>\n",
              "    </div>\n",
              "  </div>\n"
            ]
          },
          "metadata": {},
          "execution_count": 4
        }
      ]
    },
    {
      "cell_type": "markdown",
      "source": [
        "**Descripción de los datos**\n",
        "\n",
        "Número de registros: 7385\n",
        "\n",
        "Total de variables: 12\n",
        "\n",
        "Cantidad de variables categóricas: 5\n",
        "\n",
        "Cantidad de variables numéricas: 7\n",
        "\n",
        "**Variables usadas para implementar la regresión**\n",
        "\n",
        "Como se trata de una regresión lienal simple se escogieron únicamente dos variables, la predictora y la de salida.\n",
        "\n",
        "Variable independiente: 'Fuel Consumption Comb (mpg)'. Valores entre 11 y 69.\n",
        "\n",
        "Variable dependiente: 'CO2 Emissions(g/km)'. Esta es la variable de salida y toma valores entre 96 y 522."
      ],
      "metadata": {
        "id": "QJdiEzt9waNw"
      }
    },
    {
      "cell_type": "code",
      "source": [
        "X = df['Fuel Consumption Comb (mpg)']\n",
        "y = df['CO2 Emissions(g/km)']"
      ],
      "metadata": {
        "id": "6SjNapR_mKiC"
      },
      "execution_count": null,
      "outputs": []
    },
    {
      "cell_type": "markdown",
      "source": [
        "**Separacion de los datos (Train, Test y Validación)**"
      ],
      "metadata": {
        "id": "lcTmy9XcvRsm"
      }
    },
    {
      "cell_type": "code",
      "source": [
        "X_temp, X_test, y_temp, y_test = train_test_split(X.values.reshape(-1,1), y.values.reshape(-1,1), test_size=0.2, random_state=42)  # 80% entrenamiento, 20% prueba\n",
        "X_train, X_val, y_train, y_val = train_test_split(X_temp, y_temp, test_size=0.25, random_state=10) # 60% entrenamiento, 20% validación"
      ],
      "metadata": {
        "id": "Pbh7zSGIvGXc"
      },
      "execution_count": null,
      "outputs": []
    },
    {
      "cell_type": "markdown",
      "source": [
        "**Implementacion del modelo**"
      ],
      "metadata": {
        "id": "QT19ZmpwOiMG"
      }
    },
    {
      "cell_type": "code",
      "source": [
        "model = SGDRegressor(loss='squared_error',alpha=0.00001, l1_ratio=0.5,\n",
        "                      max_iter=2000, tol=0.01,\n",
        "                      epsilon=0.2, random_state=6,\n",
        "                      validation_fraction=0.1, n_iter_no_change=5)\n",
        "model.fit(X_train, y_train)"
      ],
      "metadata": {
        "colab": {
          "base_uri": "https://localhost:8080/",
          "height": 147
        },
        "id": "W59AJmwlOVwM",
        "outputId": "10d108a0-1250-45c9-a8c4-084b466c884d"
      },
      "execution_count": null,
      "outputs": [
        {
          "output_type": "stream",
          "name": "stderr",
          "text": [
            "/usr/local/lib/python3.10/dist-packages/sklearn/utils/validation.py:1143: DataConversionWarning: A column-vector y was passed when a 1d array was expected. Please change the shape of y to (n_samples, ), for example using ravel().\n",
            "  y = column_or_1d(y, warn=True)\n"
          ]
        },
        {
          "output_type": "execute_result",
          "data": {
            "text/plain": [
              "SGDRegressor(alpha=1e-05, epsilon=0.2, l1_ratio=0.5, max_iter=2000,\n",
              "             random_state=6, tol=0.01)"
            ],
            "text/html": [
              "<style>#sk-container-id-1 {color: black;background-color: white;}#sk-container-id-1 pre{padding: 0;}#sk-container-id-1 div.sk-toggleable {background-color: white;}#sk-container-id-1 label.sk-toggleable__label {cursor: pointer;display: block;width: 100%;margin-bottom: 0;padding: 0.3em;box-sizing: border-box;text-align: center;}#sk-container-id-1 label.sk-toggleable__label-arrow:before {content: \"▸\";float: left;margin-right: 0.25em;color: #696969;}#sk-container-id-1 label.sk-toggleable__label-arrow:hover:before {color: black;}#sk-container-id-1 div.sk-estimator:hover label.sk-toggleable__label-arrow:before {color: black;}#sk-container-id-1 div.sk-toggleable__content {max-height: 0;max-width: 0;overflow: hidden;text-align: left;background-color: #f0f8ff;}#sk-container-id-1 div.sk-toggleable__content pre {margin: 0.2em;color: black;border-radius: 0.25em;background-color: #f0f8ff;}#sk-container-id-1 input.sk-toggleable__control:checked~div.sk-toggleable__content {max-height: 200px;max-width: 100%;overflow: auto;}#sk-container-id-1 input.sk-toggleable__control:checked~label.sk-toggleable__label-arrow:before {content: \"▾\";}#sk-container-id-1 div.sk-estimator input.sk-toggleable__control:checked~label.sk-toggleable__label {background-color: #d4ebff;}#sk-container-id-1 div.sk-label input.sk-toggleable__control:checked~label.sk-toggleable__label {background-color: #d4ebff;}#sk-container-id-1 input.sk-hidden--visually {border: 0;clip: rect(1px 1px 1px 1px);clip: rect(1px, 1px, 1px, 1px);height: 1px;margin: -1px;overflow: hidden;padding: 0;position: absolute;width: 1px;}#sk-container-id-1 div.sk-estimator {font-family: monospace;background-color: #f0f8ff;border: 1px dotted black;border-radius: 0.25em;box-sizing: border-box;margin-bottom: 0.5em;}#sk-container-id-1 div.sk-estimator:hover {background-color: #d4ebff;}#sk-container-id-1 div.sk-parallel-item::after {content: \"\";width: 100%;border-bottom: 1px solid gray;flex-grow: 1;}#sk-container-id-1 div.sk-label:hover label.sk-toggleable__label {background-color: #d4ebff;}#sk-container-id-1 div.sk-serial::before {content: \"\";position: absolute;border-left: 1px solid gray;box-sizing: border-box;top: 0;bottom: 0;left: 50%;z-index: 0;}#sk-container-id-1 div.sk-serial {display: flex;flex-direction: column;align-items: center;background-color: white;padding-right: 0.2em;padding-left: 0.2em;position: relative;}#sk-container-id-1 div.sk-item {position: relative;z-index: 1;}#sk-container-id-1 div.sk-parallel {display: flex;align-items: stretch;justify-content: center;background-color: white;position: relative;}#sk-container-id-1 div.sk-item::before, #sk-container-id-1 div.sk-parallel-item::before {content: \"\";position: absolute;border-left: 1px solid gray;box-sizing: border-box;top: 0;bottom: 0;left: 50%;z-index: -1;}#sk-container-id-1 div.sk-parallel-item {display: flex;flex-direction: column;z-index: 1;position: relative;background-color: white;}#sk-container-id-1 div.sk-parallel-item:first-child::after {align-self: flex-end;width: 50%;}#sk-container-id-1 div.sk-parallel-item:last-child::after {align-self: flex-start;width: 50%;}#sk-container-id-1 div.sk-parallel-item:only-child::after {width: 0;}#sk-container-id-1 div.sk-dashed-wrapped {border: 1px dashed gray;margin: 0 0.4em 0.5em 0.4em;box-sizing: border-box;padding-bottom: 0.4em;background-color: white;}#sk-container-id-1 div.sk-label label {font-family: monospace;font-weight: bold;display: inline-block;line-height: 1.2em;}#sk-container-id-1 div.sk-label-container {text-align: center;}#sk-container-id-1 div.sk-container {/* jupyter's `normalize.less` sets `[hidden] { display: none; }` but bootstrap.min.css set `[hidden] { display: none !important; }` so we also need the `!important` here to be able to override the default hidden behavior on the sphinx rendered scikit-learn.org. See: https://github.com/scikit-learn/scikit-learn/issues/21755 */display: inline-block !important;position: relative;}#sk-container-id-1 div.sk-text-repr-fallback {display: none;}</style><div id=\"sk-container-id-1\" class=\"sk-top-container\"><div class=\"sk-text-repr-fallback\"><pre>SGDRegressor(alpha=1e-05, epsilon=0.2, l1_ratio=0.5, max_iter=2000,\n",
              "             random_state=6, tol=0.01)</pre><b>In a Jupyter environment, please rerun this cell to show the HTML representation or trust the notebook. <br />On GitHub, the HTML representation is unable to render, please try loading this page with nbviewer.org.</b></div><div class=\"sk-container\" hidden><div class=\"sk-item\"><div class=\"sk-estimator sk-toggleable\"><input class=\"sk-toggleable__control sk-hidden--visually\" id=\"sk-estimator-id-1\" type=\"checkbox\" checked><label for=\"sk-estimator-id-1\" class=\"sk-toggleable__label sk-toggleable__label-arrow\">SGDRegressor</label><div class=\"sk-toggleable__content\"><pre>SGDRegressor(alpha=1e-05, epsilon=0.2, l1_ratio=0.5, max_iter=2000,\n",
              "             random_state=6, tol=0.01)</pre></div></div></div></div></div>"
            ]
          },
          "metadata": {},
          "execution_count": 7
        }
      ]
    },
    {
      "cell_type": "code",
      "source": [
        "coef_intercept = model.intercept_  # Intercepto (theta0)\n",
        "coef_pendiente = model.coef_[0]    # Coeficiente de la variable independiente (theta1)\n",
        "\n",
        "print(f'Intercepto (theta0): {coef_intercept}')\n",
        "print(f'Coeficiente (theta1): {coef_pendiente}')"
      ],
      "metadata": {
        "colab": {
          "base_uri": "https://localhost:8080/"
        },
        "id": "J6r7NPvgtJUp",
        "outputId": "f0647868-f978-4614-dba0-5911e8fdefb9"
      },
      "execution_count": null,
      "outputs": [
        {
          "output_type": "stream",
          "name": "stdout",
          "text": [
            "Intercepto (theta0): [456.92199383]\n",
            "Coeficiente (theta1): -7.818563095527416\n"
          ]
        }
      ]
    },
    {
      "cell_type": "markdown",
      "source": [
        "**Evaluacion del modelo**\n",
        "\n",
        "Tanto en el subset de entrenamiento como en el subset de validacion se obtuvo un error muy grande. El MSE es ligeramente mayor en el conjunto de validacion pero el MAE y R2 son casi iguales en ambos conjuntos.\n",
        "\n",
        "Esto significa que el modelo no esta aprendiendo lo suficiente."
      ],
      "metadata": {
        "id": "gRwwPvBUUcT1"
      }
    },
    {
      "cell_type": "code",
      "source": [
        "#subset de entrenamiento\n",
        "y_train_pred = model.predict(X_train)\n",
        "\n",
        "mse_train = mean_squared_error(y_train, y_train_pred)\n",
        "\n",
        "mae_train = mean_absolute_error(y_train, y_train_pred)\n",
        "\n",
        "r2_train = r2_score(y_train, y_train_pred)\n",
        "\n",
        "\n",
        "print(\"subset de entrenamiento\")\n",
        "print(f\"MSE en conjunto de entrenamiento: {mse_train:.2f}\")\n",
        "print(f\"MAE en conjunto de entrenamiento: {mae_train:.2f}\")\n",
        "print(f\"R2 en conjunto de entrenamiento: {r2_train:.2f}\")\n"
      ],
      "metadata": {
        "colab": {
          "base_uri": "https://localhost:8080/"
        },
        "id": "fmtMjiPWngxc",
        "outputId": "caadd819-4ea1-4311-d162-aa161264772d"
      },
      "execution_count": null,
      "outputs": [
        {
          "output_type": "stream",
          "name": "stdout",
          "text": [
            "subset de entrenamiento\n",
            "MSE en conjunto de entrenamiento: 673.06\n",
            "MAE en conjunto de entrenamiento: 15.38\n",
            "R2 en conjunto de entrenamiento: 0.80\n"
          ]
        }
      ]
    },
    {
      "cell_type": "code",
      "source": [
        "#subset de validacion\n",
        "y_val_pred = model.predict(X_val)\n",
        "\n",
        "mse_val = mean_squared_error(y_val, y_val_pred)\n",
        "\n",
        "mae_val = mean_absolute_error(y_val, y_val_pred)\n",
        "\n",
        "r2_val = r2_score(y_train, y_train_pred)\n",
        "\n",
        "\n",
        "print(\"subset de validacion\")\n",
        "print(f\"MSE en conjunto de validacion: {mse_val:.2f}\")\n",
        "print(f\"MAE en conjunto de validacion: {mae_val:.2f}\")\n",
        "print(f\"R2 en conjunto de validacion: {r2_val:.2f}\")\n"
      ],
      "metadata": {
        "colab": {
          "base_uri": "https://localhost:8080/"
        },
        "id": "STK8wXIz9str",
        "outputId": "9b50547f-14a5-4f5a-bb8a-f1da42198caf"
      },
      "execution_count": null,
      "outputs": [
        {
          "output_type": "stream",
          "name": "stdout",
          "text": [
            "subset de validacion\n",
            "MSE en conjunto de validacion: 705.93\n",
            "MAE en conjunto de validacion: 15.47\n",
            "R2 en conjunto de validacion: 0.80\n"
          ]
        }
      ]
    },
    {
      "cell_type": "code",
      "source": [
        "#subset prueba\n",
        "y_test_pred = model.predict(X_test)\n",
        "mse_test = mean_squared_error(y_test, y_test_pred)\n",
        "mae_test = mean_absolute_error(y_test, y_test_pred)\n",
        "r2_test = r2_score(y_test, y_test_pred)\n",
        "\n",
        "print(\"subset de prueba\")\n",
        "print(f\"MSE en conjunto de Test: {mse_test:.2f}\")\n",
        "print(f\"MAE en conjunto de Test: {mae_test:.2f}\")\n",
        "print(f\"R2 en conjunto de Test: {r2_test:.2f}\")"
      ],
      "metadata": {
        "colab": {
          "base_uri": "https://localhost:8080/"
        },
        "id": "cc9ULs1loTaX",
        "outputId": "c8b0fba9-5b4e-482b-ac1b-24c7f5be69a4"
      },
      "execution_count": null,
      "outputs": [
        {
          "output_type": "stream",
          "name": "stdout",
          "text": [
            "subset de prueba\n",
            "MSE en conjunto de Test: 720.42\n",
            "MAE en conjunto de Test: 15.88\n",
            "R2 en conjunto de Test: 0.79\n"
          ]
        }
      ]
    },
    {
      "cell_type": "markdown",
      "source": [
        "**Validación**\n",
        "\n"
      ],
      "metadata": {
        "id": "ALg6GKJb-vIJ"
      }
    },
    {
      "cell_type": "code",
      "source": [
        "best_mse = float('inf')\n",
        "best_model = None\n",
        "best_parameters = None\n",
        "\n",
        "#dataframe donde se guardaran los resultados de cada iteracion\n",
        "resultados_df = pd.DataFrame(columns=['Alpha', 'Loss Function', 'Max Iter', 'MSE'])\n",
        "\n",
        "#parametros a probar\n",
        "alphas = [0.0001, 0.01, 0.1, 0.5]\n",
        "loss_functions = ['squared_error', 'huber', 'epsilon_insensitive', 'squared_epsilon_insensitive']\n",
        "max_iters = [1000, 5000, 10000]\n",
        "\n",
        "#ciclo para probar los diferentes parametros\n",
        "for alpha in alphas:\n",
        "    for loss_function in loss_functions:\n",
        "        for max_iter in max_iters:\n",
        "            model = SGDRegressor(alpha=alpha, loss=loss_function, max_iter=max_iter)\n",
        "            model.fit(X_train, y_train) #entrenamiento del modelo\n",
        "            y_pred = model.predict(X_val) #evaluar con subset de validacion\n",
        "            mse = mean_squared_error(y_val, y_pred)\n",
        "            resultados_df = resultados_df.append({'Alpha': alpha, 'Loss Function': loss_function, 'Max Iter': max_iter, 'MSE': mse}, ignore_index=True)\n",
        "            if mse < best_mse:\n",
        "                best_mse = mse\n",
        "                best_model = model\n",
        "                best_parameters = {'alpha': alpha, 'loss': loss_function, 'max_iter': max_iter}"
      ],
      "metadata": {
        "colab": {
          "base_uri": "https://localhost:8080/"
        },
        "id": "jvr20Hca_X7I",
        "outputId": "20c8ffc1-51e7-4e8c-f1ce-4d4c450b9c21"
      },
      "execution_count": null,
      "outputs": [
        {
          "output_type": "stream",
          "name": "stderr",
          "text": [
            "/usr/local/lib/python3.10/dist-packages/sklearn/utils/validation.py:1143: DataConversionWarning: A column-vector y was passed when a 1d array was expected. Please change the shape of y to (n_samples, ), for example using ravel().\n",
            "  y = column_or_1d(y, warn=True)\n",
            "<ipython-input-22-9b0f8f1e08f0>:19: FutureWarning: The frame.append method is deprecated and will be removed from pandas in a future version. Use pandas.concat instead.\n",
            "  resultados_df = resultados_df.append({'Alpha': alpha, 'Loss Function': loss_function, 'Max Iter': max_iter, 'MSE': mse}, ignore_index=True)\n",
            "/usr/local/lib/python3.10/dist-packages/sklearn/utils/validation.py:1143: DataConversionWarning: A column-vector y was passed when a 1d array was expected. Please change the shape of y to (n_samples, ), for example using ravel().\n",
            "  y = column_or_1d(y, warn=True)\n",
            "<ipython-input-22-9b0f8f1e08f0>:19: FutureWarning: The frame.append method is deprecated and will be removed from pandas in a future version. Use pandas.concat instead.\n",
            "  resultados_df = resultados_df.append({'Alpha': alpha, 'Loss Function': loss_function, 'Max Iter': max_iter, 'MSE': mse}, ignore_index=True)\n",
            "/usr/local/lib/python3.10/dist-packages/sklearn/utils/validation.py:1143: DataConversionWarning: A column-vector y was passed when a 1d array was expected. Please change the shape of y to (n_samples, ), for example using ravel().\n",
            "  y = column_or_1d(y, warn=True)\n",
            "<ipython-input-22-9b0f8f1e08f0>:19: FutureWarning: The frame.append method is deprecated and will be removed from pandas in a future version. Use pandas.concat instead.\n",
            "  resultados_df = resultados_df.append({'Alpha': alpha, 'Loss Function': loss_function, 'Max Iter': max_iter, 'MSE': mse}, ignore_index=True)\n",
            "/usr/local/lib/python3.10/dist-packages/sklearn/utils/validation.py:1143: DataConversionWarning: A column-vector y was passed when a 1d array was expected. Please change the shape of y to (n_samples, ), for example using ravel().\n",
            "  y = column_or_1d(y, warn=True)\n",
            "<ipython-input-22-9b0f8f1e08f0>:19: FutureWarning: The frame.append method is deprecated and will be removed from pandas in a future version. Use pandas.concat instead.\n",
            "  resultados_df = resultados_df.append({'Alpha': alpha, 'Loss Function': loss_function, 'Max Iter': max_iter, 'MSE': mse}, ignore_index=True)\n",
            "/usr/local/lib/python3.10/dist-packages/sklearn/utils/validation.py:1143: DataConversionWarning: A column-vector y was passed when a 1d array was expected. Please change the shape of y to (n_samples, ), for example using ravel().\n",
            "  y = column_or_1d(y, warn=True)\n",
            "<ipython-input-22-9b0f8f1e08f0>:19: FutureWarning: The frame.append method is deprecated and will be removed from pandas in a future version. Use pandas.concat instead.\n",
            "  resultados_df = resultados_df.append({'Alpha': alpha, 'Loss Function': loss_function, 'Max Iter': max_iter, 'MSE': mse}, ignore_index=True)\n",
            "/usr/local/lib/python3.10/dist-packages/sklearn/utils/validation.py:1143: DataConversionWarning: A column-vector y was passed when a 1d array was expected. Please change the shape of y to (n_samples, ), for example using ravel().\n",
            "  y = column_or_1d(y, warn=True)\n",
            "<ipython-input-22-9b0f8f1e08f0>:19: FutureWarning: The frame.append method is deprecated and will be removed from pandas in a future version. Use pandas.concat instead.\n",
            "  resultados_df = resultados_df.append({'Alpha': alpha, 'Loss Function': loss_function, 'Max Iter': max_iter, 'MSE': mse}, ignore_index=True)\n",
            "/usr/local/lib/python3.10/dist-packages/sklearn/utils/validation.py:1143: DataConversionWarning: A column-vector y was passed when a 1d array was expected. Please change the shape of y to (n_samples, ), for example using ravel().\n",
            "  y = column_or_1d(y, warn=True)\n",
            "/usr/local/lib/python3.10/dist-packages/sklearn/linear_model/_stochastic_gradient.py:1548: ConvergenceWarning: Maximum number of iteration reached before convergence. Consider increasing max_iter to improve the fit.\n",
            "  warnings.warn(\n",
            "<ipython-input-22-9b0f8f1e08f0>:19: FutureWarning: The frame.append method is deprecated and will be removed from pandas in a future version. Use pandas.concat instead.\n",
            "  resultados_df = resultados_df.append({'Alpha': alpha, 'Loss Function': loss_function, 'Max Iter': max_iter, 'MSE': mse}, ignore_index=True)\n",
            "/usr/local/lib/python3.10/dist-packages/sklearn/utils/validation.py:1143: DataConversionWarning: A column-vector y was passed when a 1d array was expected. Please change the shape of y to (n_samples, ), for example using ravel().\n",
            "  y = column_or_1d(y, warn=True)\n",
            "<ipython-input-22-9b0f8f1e08f0>:19: FutureWarning: The frame.append method is deprecated and will be removed from pandas in a future version. Use pandas.concat instead.\n",
            "  resultados_df = resultados_df.append({'Alpha': alpha, 'Loss Function': loss_function, 'Max Iter': max_iter, 'MSE': mse}, ignore_index=True)\n",
            "/usr/local/lib/python3.10/dist-packages/sklearn/utils/validation.py:1143: DataConversionWarning: A column-vector y was passed when a 1d array was expected. Please change the shape of y to (n_samples, ), for example using ravel().\n",
            "  y = column_or_1d(y, warn=True)\n",
            "<ipython-input-22-9b0f8f1e08f0>:19: FutureWarning: The frame.append method is deprecated and will be removed from pandas in a future version. Use pandas.concat instead.\n",
            "  resultados_df = resultados_df.append({'Alpha': alpha, 'Loss Function': loss_function, 'Max Iter': max_iter, 'MSE': mse}, ignore_index=True)\n",
            "/usr/local/lib/python3.10/dist-packages/sklearn/utils/validation.py:1143: DataConversionWarning: A column-vector y was passed when a 1d array was expected. Please change the shape of y to (n_samples, ), for example using ravel().\n",
            "  y = column_or_1d(y, warn=True)\n",
            "<ipython-input-22-9b0f8f1e08f0>:19: FutureWarning: The frame.append method is deprecated and will be removed from pandas in a future version. Use pandas.concat instead.\n",
            "  resultados_df = resultados_df.append({'Alpha': alpha, 'Loss Function': loss_function, 'Max Iter': max_iter, 'MSE': mse}, ignore_index=True)\n",
            "/usr/local/lib/python3.10/dist-packages/sklearn/utils/validation.py:1143: DataConversionWarning: A column-vector y was passed when a 1d array was expected. Please change the shape of y to (n_samples, ), for example using ravel().\n",
            "  y = column_or_1d(y, warn=True)\n",
            "<ipython-input-22-9b0f8f1e08f0>:19: FutureWarning: The frame.append method is deprecated and will be removed from pandas in a future version. Use pandas.concat instead.\n",
            "  resultados_df = resultados_df.append({'Alpha': alpha, 'Loss Function': loss_function, 'Max Iter': max_iter, 'MSE': mse}, ignore_index=True)\n",
            "/usr/local/lib/python3.10/dist-packages/sklearn/utils/validation.py:1143: DataConversionWarning: A column-vector y was passed when a 1d array was expected. Please change the shape of y to (n_samples, ), for example using ravel().\n",
            "  y = column_or_1d(y, warn=True)\n",
            "<ipython-input-22-9b0f8f1e08f0>:19: FutureWarning: The frame.append method is deprecated and will be removed from pandas in a future version. Use pandas.concat instead.\n",
            "  resultados_df = resultados_df.append({'Alpha': alpha, 'Loss Function': loss_function, 'Max Iter': max_iter, 'MSE': mse}, ignore_index=True)\n",
            "/usr/local/lib/python3.10/dist-packages/sklearn/utils/validation.py:1143: DataConversionWarning: A column-vector y was passed when a 1d array was expected. Please change the shape of y to (n_samples, ), for example using ravel().\n",
            "  y = column_or_1d(y, warn=True)\n",
            "<ipython-input-22-9b0f8f1e08f0>:19: FutureWarning: The frame.append method is deprecated and will be removed from pandas in a future version. Use pandas.concat instead.\n",
            "  resultados_df = resultados_df.append({'Alpha': alpha, 'Loss Function': loss_function, 'Max Iter': max_iter, 'MSE': mse}, ignore_index=True)\n",
            "/usr/local/lib/python3.10/dist-packages/sklearn/utils/validation.py:1143: DataConversionWarning: A column-vector y was passed when a 1d array was expected. Please change the shape of y to (n_samples, ), for example using ravel().\n",
            "  y = column_or_1d(y, warn=True)\n",
            "<ipython-input-22-9b0f8f1e08f0>:19: FutureWarning: The frame.append method is deprecated and will be removed from pandas in a future version. Use pandas.concat instead.\n",
            "  resultados_df = resultados_df.append({'Alpha': alpha, 'Loss Function': loss_function, 'Max Iter': max_iter, 'MSE': mse}, ignore_index=True)\n",
            "/usr/local/lib/python3.10/dist-packages/sklearn/utils/validation.py:1143: DataConversionWarning: A column-vector y was passed when a 1d array was expected. Please change the shape of y to (n_samples, ), for example using ravel().\n",
            "  y = column_or_1d(y, warn=True)\n",
            "<ipython-input-22-9b0f8f1e08f0>:19: FutureWarning: The frame.append method is deprecated and will be removed from pandas in a future version. Use pandas.concat instead.\n",
            "  resultados_df = resultados_df.append({'Alpha': alpha, 'Loss Function': loss_function, 'Max Iter': max_iter, 'MSE': mse}, ignore_index=True)\n",
            "/usr/local/lib/python3.10/dist-packages/sklearn/utils/validation.py:1143: DataConversionWarning: A column-vector y was passed when a 1d array was expected. Please change the shape of y to (n_samples, ), for example using ravel().\n",
            "  y = column_or_1d(y, warn=True)\n",
            "<ipython-input-22-9b0f8f1e08f0>:19: FutureWarning: The frame.append method is deprecated and will be removed from pandas in a future version. Use pandas.concat instead.\n",
            "  resultados_df = resultados_df.append({'Alpha': alpha, 'Loss Function': loss_function, 'Max Iter': max_iter, 'MSE': mse}, ignore_index=True)\n",
            "/usr/local/lib/python3.10/dist-packages/sklearn/utils/validation.py:1143: DataConversionWarning: A column-vector y was passed when a 1d array was expected. Please change the shape of y to (n_samples, ), for example using ravel().\n",
            "  y = column_or_1d(y, warn=True)\n",
            "<ipython-input-22-9b0f8f1e08f0>:19: FutureWarning: The frame.append method is deprecated and will be removed from pandas in a future version. Use pandas.concat instead.\n",
            "  resultados_df = resultados_df.append({'Alpha': alpha, 'Loss Function': loss_function, 'Max Iter': max_iter, 'MSE': mse}, ignore_index=True)\n",
            "/usr/local/lib/python3.10/dist-packages/sklearn/utils/validation.py:1143: DataConversionWarning: A column-vector y was passed when a 1d array was expected. Please change the shape of y to (n_samples, ), for example using ravel().\n",
            "  y = column_or_1d(y, warn=True)\n",
            "<ipython-input-22-9b0f8f1e08f0>:19: FutureWarning: The frame.append method is deprecated and will be removed from pandas in a future version. Use pandas.concat instead.\n",
            "  resultados_df = resultados_df.append({'Alpha': alpha, 'Loss Function': loss_function, 'Max Iter': max_iter, 'MSE': mse}, ignore_index=True)\n",
            "/usr/local/lib/python3.10/dist-packages/sklearn/utils/validation.py:1143: DataConversionWarning: A column-vector y was passed when a 1d array was expected. Please change the shape of y to (n_samples, ), for example using ravel().\n",
            "  y = column_or_1d(y, warn=True)\n",
            "/usr/local/lib/python3.10/dist-packages/sklearn/linear_model/_stochastic_gradient.py:1548: ConvergenceWarning: Maximum number of iteration reached before convergence. Consider increasing max_iter to improve the fit.\n",
            "  warnings.warn(\n",
            "<ipython-input-22-9b0f8f1e08f0>:19: FutureWarning: The frame.append method is deprecated and will be removed from pandas in a future version. Use pandas.concat instead.\n",
            "  resultados_df = resultados_df.append({'Alpha': alpha, 'Loss Function': loss_function, 'Max Iter': max_iter, 'MSE': mse}, ignore_index=True)\n",
            "/usr/local/lib/python3.10/dist-packages/sklearn/utils/validation.py:1143: DataConversionWarning: A column-vector y was passed when a 1d array was expected. Please change the shape of y to (n_samples, ), for example using ravel().\n",
            "  y = column_or_1d(y, warn=True)\n",
            "<ipython-input-22-9b0f8f1e08f0>:19: FutureWarning: The frame.append method is deprecated and will be removed from pandas in a future version. Use pandas.concat instead.\n",
            "  resultados_df = resultados_df.append({'Alpha': alpha, 'Loss Function': loss_function, 'Max Iter': max_iter, 'MSE': mse}, ignore_index=True)\n",
            "/usr/local/lib/python3.10/dist-packages/sklearn/utils/validation.py:1143: DataConversionWarning: A column-vector y was passed when a 1d array was expected. Please change the shape of y to (n_samples, ), for example using ravel().\n",
            "  y = column_or_1d(y, warn=True)\n",
            "<ipython-input-22-9b0f8f1e08f0>:19: FutureWarning: The frame.append method is deprecated and will be removed from pandas in a future version. Use pandas.concat instead.\n",
            "  resultados_df = resultados_df.append({'Alpha': alpha, 'Loss Function': loss_function, 'Max Iter': max_iter, 'MSE': mse}, ignore_index=True)\n",
            "/usr/local/lib/python3.10/dist-packages/sklearn/utils/validation.py:1143: DataConversionWarning: A column-vector y was passed when a 1d array was expected. Please change the shape of y to (n_samples, ), for example using ravel().\n",
            "  y = column_or_1d(y, warn=True)\n",
            "<ipython-input-22-9b0f8f1e08f0>:19: FutureWarning: The frame.append method is deprecated and will be removed from pandas in a future version. Use pandas.concat instead.\n",
            "  resultados_df = resultados_df.append({'Alpha': alpha, 'Loss Function': loss_function, 'Max Iter': max_iter, 'MSE': mse}, ignore_index=True)\n",
            "/usr/local/lib/python3.10/dist-packages/sklearn/utils/validation.py:1143: DataConversionWarning: A column-vector y was passed when a 1d array was expected. Please change the shape of y to (n_samples, ), for example using ravel().\n",
            "  y = column_or_1d(y, warn=True)\n",
            "<ipython-input-22-9b0f8f1e08f0>:19: FutureWarning: The frame.append method is deprecated and will be removed from pandas in a future version. Use pandas.concat instead.\n",
            "  resultados_df = resultados_df.append({'Alpha': alpha, 'Loss Function': loss_function, 'Max Iter': max_iter, 'MSE': mse}, ignore_index=True)\n",
            "/usr/local/lib/python3.10/dist-packages/sklearn/utils/validation.py:1143: DataConversionWarning: A column-vector y was passed when a 1d array was expected. Please change the shape of y to (n_samples, ), for example using ravel().\n",
            "  y = column_or_1d(y, warn=True)\n",
            "<ipython-input-22-9b0f8f1e08f0>:19: FutureWarning: The frame.append method is deprecated and will be removed from pandas in a future version. Use pandas.concat instead.\n",
            "  resultados_df = resultados_df.append({'Alpha': alpha, 'Loss Function': loss_function, 'Max Iter': max_iter, 'MSE': mse}, ignore_index=True)\n",
            "/usr/local/lib/python3.10/dist-packages/sklearn/utils/validation.py:1143: DataConversionWarning: A column-vector y was passed when a 1d array was expected. Please change the shape of y to (n_samples, ), for example using ravel().\n",
            "  y = column_or_1d(y, warn=True)\n",
            "<ipython-input-22-9b0f8f1e08f0>:19: FutureWarning: The frame.append method is deprecated and will be removed from pandas in a future version. Use pandas.concat instead.\n",
            "  resultados_df = resultados_df.append({'Alpha': alpha, 'Loss Function': loss_function, 'Max Iter': max_iter, 'MSE': mse}, ignore_index=True)\n",
            "/usr/local/lib/python3.10/dist-packages/sklearn/utils/validation.py:1143: DataConversionWarning: A column-vector y was passed when a 1d array was expected. Please change the shape of y to (n_samples, ), for example using ravel().\n",
            "  y = column_or_1d(y, warn=True)\n",
            "<ipython-input-22-9b0f8f1e08f0>:19: FutureWarning: The frame.append method is deprecated and will be removed from pandas in a future version. Use pandas.concat instead.\n",
            "  resultados_df = resultados_df.append({'Alpha': alpha, 'Loss Function': loss_function, 'Max Iter': max_iter, 'MSE': mse}, ignore_index=True)\n",
            "/usr/local/lib/python3.10/dist-packages/sklearn/utils/validation.py:1143: DataConversionWarning: A column-vector y was passed when a 1d array was expected. Please change the shape of y to (n_samples, ), for example using ravel().\n",
            "  y = column_or_1d(y, warn=True)\n",
            "<ipython-input-22-9b0f8f1e08f0>:19: FutureWarning: The frame.append method is deprecated and will be removed from pandas in a future version. Use pandas.concat instead.\n",
            "  resultados_df = resultados_df.append({'Alpha': alpha, 'Loss Function': loss_function, 'Max Iter': max_iter, 'MSE': mse}, ignore_index=True)\n",
            "/usr/local/lib/python3.10/dist-packages/sklearn/utils/validation.py:1143: DataConversionWarning: A column-vector y was passed when a 1d array was expected. Please change the shape of y to (n_samples, ), for example using ravel().\n",
            "  y = column_or_1d(y, warn=True)\n",
            "<ipython-input-22-9b0f8f1e08f0>:19: FutureWarning: The frame.append method is deprecated and will be removed from pandas in a future version. Use pandas.concat instead.\n",
            "  resultados_df = resultados_df.append({'Alpha': alpha, 'Loss Function': loss_function, 'Max Iter': max_iter, 'MSE': mse}, ignore_index=True)\n",
            "/usr/local/lib/python3.10/dist-packages/sklearn/utils/validation.py:1143: DataConversionWarning: A column-vector y was passed when a 1d array was expected. Please change the shape of y to (n_samples, ), for example using ravel().\n",
            "  y = column_or_1d(y, warn=True)\n",
            "<ipython-input-22-9b0f8f1e08f0>:19: FutureWarning: The frame.append method is deprecated and will be removed from pandas in a future version. Use pandas.concat instead.\n",
            "  resultados_df = resultados_df.append({'Alpha': alpha, 'Loss Function': loss_function, 'Max Iter': max_iter, 'MSE': mse}, ignore_index=True)\n",
            "/usr/local/lib/python3.10/dist-packages/sklearn/utils/validation.py:1143: DataConversionWarning: A column-vector y was passed when a 1d array was expected. Please change the shape of y to (n_samples, ), for example using ravel().\n",
            "  y = column_or_1d(y, warn=True)\n",
            "<ipython-input-22-9b0f8f1e08f0>:19: FutureWarning: The frame.append method is deprecated and will be removed from pandas in a future version. Use pandas.concat instead.\n",
            "  resultados_df = resultados_df.append({'Alpha': alpha, 'Loss Function': loss_function, 'Max Iter': max_iter, 'MSE': mse}, ignore_index=True)\n",
            "/usr/local/lib/python3.10/dist-packages/sklearn/utils/validation.py:1143: DataConversionWarning: A column-vector y was passed when a 1d array was expected. Please change the shape of y to (n_samples, ), for example using ravel().\n",
            "  y = column_or_1d(y, warn=True)\n",
            "/usr/local/lib/python3.10/dist-packages/sklearn/linear_model/_stochastic_gradient.py:1548: ConvergenceWarning: Maximum number of iteration reached before convergence. Consider increasing max_iter to improve the fit.\n",
            "  warnings.warn(\n",
            "<ipython-input-22-9b0f8f1e08f0>:19: FutureWarning: The frame.append method is deprecated and will be removed from pandas in a future version. Use pandas.concat instead.\n",
            "  resultados_df = resultados_df.append({'Alpha': alpha, 'Loss Function': loss_function, 'Max Iter': max_iter, 'MSE': mse}, ignore_index=True)\n",
            "/usr/local/lib/python3.10/dist-packages/sklearn/utils/validation.py:1143: DataConversionWarning: A column-vector y was passed when a 1d array was expected. Please change the shape of y to (n_samples, ), for example using ravel().\n",
            "  y = column_or_1d(y, warn=True)\n",
            "<ipython-input-22-9b0f8f1e08f0>:19: FutureWarning: The frame.append method is deprecated and will be removed from pandas in a future version. Use pandas.concat instead.\n",
            "  resultados_df = resultados_df.append({'Alpha': alpha, 'Loss Function': loss_function, 'Max Iter': max_iter, 'MSE': mse}, ignore_index=True)\n",
            "/usr/local/lib/python3.10/dist-packages/sklearn/utils/validation.py:1143: DataConversionWarning: A column-vector y was passed when a 1d array was expected. Please change the shape of y to (n_samples, ), for example using ravel().\n",
            "  y = column_or_1d(y, warn=True)\n",
            "<ipython-input-22-9b0f8f1e08f0>:19: FutureWarning: The frame.append method is deprecated and will be removed from pandas in a future version. Use pandas.concat instead.\n",
            "  resultados_df = resultados_df.append({'Alpha': alpha, 'Loss Function': loss_function, 'Max Iter': max_iter, 'MSE': mse}, ignore_index=True)\n",
            "/usr/local/lib/python3.10/dist-packages/sklearn/utils/validation.py:1143: DataConversionWarning: A column-vector y was passed when a 1d array was expected. Please change the shape of y to (n_samples, ), for example using ravel().\n",
            "  y = column_or_1d(y, warn=True)\n",
            "<ipython-input-22-9b0f8f1e08f0>:19: FutureWarning: The frame.append method is deprecated and will be removed from pandas in a future version. Use pandas.concat instead.\n",
            "  resultados_df = resultados_df.append({'Alpha': alpha, 'Loss Function': loss_function, 'Max Iter': max_iter, 'MSE': mse}, ignore_index=True)\n",
            "/usr/local/lib/python3.10/dist-packages/sklearn/utils/validation.py:1143: DataConversionWarning: A column-vector y was passed when a 1d array was expected. Please change the shape of y to (n_samples, ), for example using ravel().\n",
            "  y = column_or_1d(y, warn=True)\n",
            "<ipython-input-22-9b0f8f1e08f0>:19: FutureWarning: The frame.append method is deprecated and will be removed from pandas in a future version. Use pandas.concat instead.\n",
            "  resultados_df = resultados_df.append({'Alpha': alpha, 'Loss Function': loss_function, 'Max Iter': max_iter, 'MSE': mse}, ignore_index=True)\n",
            "/usr/local/lib/python3.10/dist-packages/sklearn/utils/validation.py:1143: DataConversionWarning: A column-vector y was passed when a 1d array was expected. Please change the shape of y to (n_samples, ), for example using ravel().\n",
            "  y = column_or_1d(y, warn=True)\n",
            "<ipython-input-22-9b0f8f1e08f0>:19: FutureWarning: The frame.append method is deprecated and will be removed from pandas in a future version. Use pandas.concat instead.\n",
            "  resultados_df = resultados_df.append({'Alpha': alpha, 'Loss Function': loss_function, 'Max Iter': max_iter, 'MSE': mse}, ignore_index=True)\n",
            "/usr/local/lib/python3.10/dist-packages/sklearn/utils/validation.py:1143: DataConversionWarning: A column-vector y was passed when a 1d array was expected. Please change the shape of y to (n_samples, ), for example using ravel().\n",
            "  y = column_or_1d(y, warn=True)\n",
            "<ipython-input-22-9b0f8f1e08f0>:19: FutureWarning: The frame.append method is deprecated and will be removed from pandas in a future version. Use pandas.concat instead.\n",
            "  resultados_df = resultados_df.append({'Alpha': alpha, 'Loss Function': loss_function, 'Max Iter': max_iter, 'MSE': mse}, ignore_index=True)\n",
            "/usr/local/lib/python3.10/dist-packages/sklearn/utils/validation.py:1143: DataConversionWarning: A column-vector y was passed when a 1d array was expected. Please change the shape of y to (n_samples, ), for example using ravel().\n",
            "  y = column_or_1d(y, warn=True)\n",
            "<ipython-input-22-9b0f8f1e08f0>:19: FutureWarning: The frame.append method is deprecated and will be removed from pandas in a future version. Use pandas.concat instead.\n",
            "  resultados_df = resultados_df.append({'Alpha': alpha, 'Loss Function': loss_function, 'Max Iter': max_iter, 'MSE': mse}, ignore_index=True)\n",
            "/usr/local/lib/python3.10/dist-packages/sklearn/utils/validation.py:1143: DataConversionWarning: A column-vector y was passed when a 1d array was expected. Please change the shape of y to (n_samples, ), for example using ravel().\n",
            "  y = column_or_1d(y, warn=True)\n",
            "<ipython-input-22-9b0f8f1e08f0>:19: FutureWarning: The frame.append method is deprecated and will be removed from pandas in a future version. Use pandas.concat instead.\n",
            "  resultados_df = resultados_df.append({'Alpha': alpha, 'Loss Function': loss_function, 'Max Iter': max_iter, 'MSE': mse}, ignore_index=True)\n",
            "/usr/local/lib/python3.10/dist-packages/sklearn/utils/validation.py:1143: DataConversionWarning: A column-vector y was passed when a 1d array was expected. Please change the shape of y to (n_samples, ), for example using ravel().\n",
            "  y = column_or_1d(y, warn=True)\n",
            "<ipython-input-22-9b0f8f1e08f0>:19: FutureWarning: The frame.append method is deprecated and will be removed from pandas in a future version. Use pandas.concat instead.\n",
            "  resultados_df = resultados_df.append({'Alpha': alpha, 'Loss Function': loss_function, 'Max Iter': max_iter, 'MSE': mse}, ignore_index=True)\n",
            "/usr/local/lib/python3.10/dist-packages/sklearn/utils/validation.py:1143: DataConversionWarning: A column-vector y was passed when a 1d array was expected. Please change the shape of y to (n_samples, ), for example using ravel().\n",
            "  y = column_or_1d(y, warn=True)\n",
            "<ipython-input-22-9b0f8f1e08f0>:19: FutureWarning: The frame.append method is deprecated and will be removed from pandas in a future version. Use pandas.concat instead.\n",
            "  resultados_df = resultados_df.append({'Alpha': alpha, 'Loss Function': loss_function, 'Max Iter': max_iter, 'MSE': mse}, ignore_index=True)\n",
            "/usr/local/lib/python3.10/dist-packages/sklearn/utils/validation.py:1143: DataConversionWarning: A column-vector y was passed when a 1d array was expected. Please change the shape of y to (n_samples, ), for example using ravel().\n",
            "  y = column_or_1d(y, warn=True)\n",
            "<ipython-input-22-9b0f8f1e08f0>:19: FutureWarning: The frame.append method is deprecated and will be removed from pandas in a future version. Use pandas.concat instead.\n",
            "  resultados_df = resultados_df.append({'Alpha': alpha, 'Loss Function': loss_function, 'Max Iter': max_iter, 'MSE': mse}, ignore_index=True)\n",
            "/usr/local/lib/python3.10/dist-packages/sklearn/utils/validation.py:1143: DataConversionWarning: A column-vector y was passed when a 1d array was expected. Please change the shape of y to (n_samples, ), for example using ravel().\n",
            "  y = column_or_1d(y, warn=True)\n",
            "/usr/local/lib/python3.10/dist-packages/sklearn/linear_model/_stochastic_gradient.py:1548: ConvergenceWarning: Maximum number of iteration reached before convergence. Consider increasing max_iter to improve the fit.\n",
            "  warnings.warn(\n",
            "<ipython-input-22-9b0f8f1e08f0>:19: FutureWarning: The frame.append method is deprecated and will be removed from pandas in a future version. Use pandas.concat instead.\n",
            "  resultados_df = resultados_df.append({'Alpha': alpha, 'Loss Function': loss_function, 'Max Iter': max_iter, 'MSE': mse}, ignore_index=True)\n",
            "/usr/local/lib/python3.10/dist-packages/sklearn/utils/validation.py:1143: DataConversionWarning: A column-vector y was passed when a 1d array was expected. Please change the shape of y to (n_samples, ), for example using ravel().\n",
            "  y = column_or_1d(y, warn=True)\n",
            "<ipython-input-22-9b0f8f1e08f0>:19: FutureWarning: The frame.append method is deprecated and will be removed from pandas in a future version. Use pandas.concat instead.\n",
            "  resultados_df = resultados_df.append({'Alpha': alpha, 'Loss Function': loss_function, 'Max Iter': max_iter, 'MSE': mse}, ignore_index=True)\n",
            "/usr/local/lib/python3.10/dist-packages/sklearn/utils/validation.py:1143: DataConversionWarning: A column-vector y was passed when a 1d array was expected. Please change the shape of y to (n_samples, ), for example using ravel().\n",
            "  y = column_or_1d(y, warn=True)\n",
            "<ipython-input-22-9b0f8f1e08f0>:19: FutureWarning: The frame.append method is deprecated and will be removed from pandas in a future version. Use pandas.concat instead.\n",
            "  resultados_df = resultados_df.append({'Alpha': alpha, 'Loss Function': loss_function, 'Max Iter': max_iter, 'MSE': mse}, ignore_index=True)\n",
            "/usr/local/lib/python3.10/dist-packages/sklearn/utils/validation.py:1143: DataConversionWarning: A column-vector y was passed when a 1d array was expected. Please change the shape of y to (n_samples, ), for example using ravel().\n",
            "  y = column_or_1d(y, warn=True)\n",
            "<ipython-input-22-9b0f8f1e08f0>:19: FutureWarning: The frame.append method is deprecated and will be removed from pandas in a future version. Use pandas.concat instead.\n",
            "  resultados_df = resultados_df.append({'Alpha': alpha, 'Loss Function': loss_function, 'Max Iter': max_iter, 'MSE': mse}, ignore_index=True)\n",
            "/usr/local/lib/python3.10/dist-packages/sklearn/utils/validation.py:1143: DataConversionWarning: A column-vector y was passed when a 1d array was expected. Please change the shape of y to (n_samples, ), for example using ravel().\n",
            "  y = column_or_1d(y, warn=True)\n",
            "<ipython-input-22-9b0f8f1e08f0>:19: FutureWarning: The frame.append method is deprecated and will be removed from pandas in a future version. Use pandas.concat instead.\n",
            "  resultados_df = resultados_df.append({'Alpha': alpha, 'Loss Function': loss_function, 'Max Iter': max_iter, 'MSE': mse}, ignore_index=True)\n",
            "/usr/local/lib/python3.10/dist-packages/sklearn/utils/validation.py:1143: DataConversionWarning: A column-vector y was passed when a 1d array was expected. Please change the shape of y to (n_samples, ), for example using ravel().\n",
            "  y = column_or_1d(y, warn=True)\n",
            "<ipython-input-22-9b0f8f1e08f0>:19: FutureWarning: The frame.append method is deprecated and will be removed from pandas in a future version. Use pandas.concat instead.\n",
            "  resultados_df = resultados_df.append({'Alpha': alpha, 'Loss Function': loss_function, 'Max Iter': max_iter, 'MSE': mse}, ignore_index=True)\n"
          ]
        }
      ]
    },
    {
      "cell_type": "code",
      "source": [
        "resultados_df"
      ],
      "metadata": {
        "colab": {
          "base_uri": "https://localhost:8080/",
          "height": 1000
        },
        "id": "J5Uut2fQP8UY",
        "outputId": "3ecbcb78-8e01-4a98-e23d-381bb12431b9"
      },
      "execution_count": null,
      "outputs": [
        {
          "output_type": "execute_result",
          "data": {
            "text/plain": [
              "     Alpha                Loss Function Max Iter           MSE\n",
              "0   0.0001                squared_error     1000    622.254302\n",
              "1   0.0001                squared_error     5000   1224.261728\n",
              "2   0.0001                squared_error    10000    995.758427\n",
              "3   0.0001                        huber     1000  13595.776820\n",
              "4   0.0001                        huber     5000  13622.611876\n",
              "5   0.0001                        huber    10000  13639.176991\n",
              "6   0.0001          epsilon_insensitive     1000   3123.078025\n",
              "7   0.0001          epsilon_insensitive     5000    691.524165\n",
              "8   0.0001          epsilon_insensitive    10000    710.148349\n",
              "9   0.0001  squared_epsilon_insensitive     1000    665.100946\n",
              "10  0.0001  squared_epsilon_insensitive     5000    935.629030\n",
              "11  0.0001  squared_epsilon_insensitive    10000    740.935755\n",
              "12  0.0100                squared_error     1000    633.846014\n",
              "13  0.0100                squared_error     5000    857.274270\n",
              "14  0.0100                squared_error    10000    709.425265\n",
              "15  0.0100                        huber     1000  13697.892675\n",
              "16  0.0100                        huber     5000  13679.160666\n",
              "17  0.0100                        huber    10000  13520.291844\n",
              "18  0.0100          epsilon_insensitive     1000   3127.493704\n",
              "19  0.0100          epsilon_insensitive     5000    728.309726\n",
              "20  0.0100          epsilon_insensitive    10000    744.419148\n",
              "21  0.0100  squared_epsilon_insensitive     1000    791.750084\n",
              "22  0.0100  squared_epsilon_insensitive     5000   2975.282620\n",
              "23  0.0100  squared_epsilon_insensitive    10000    648.481783\n",
              "24  0.1000                squared_error     1000    699.263876\n",
              "25  0.1000                squared_error     5000    619.417701\n",
              "26  0.1000                squared_error    10000    653.743061\n",
              "27  0.1000                        huber     1000  14756.891612\n",
              "28  0.1000                        huber     5000  14588.054059\n",
              "29  0.1000                        huber    10000  14703.434812\n",
              "30  0.1000          epsilon_insensitive     1000   2776.926783\n",
              "31  0.1000          epsilon_insensitive     5000    725.814474\n",
              "32  0.1000          epsilon_insensitive    10000    745.245581\n",
              "33  0.1000  squared_epsilon_insensitive     1000    633.691189\n",
              "34  0.1000  squared_epsilon_insensitive     5000    650.864012\n",
              "35  0.1000  squared_epsilon_insensitive    10000    707.504958\n",
              "36  0.5000                squared_error     1000    614.719838\n",
              "37  0.5000                squared_error     5000    615.200258\n",
              "38  0.5000                squared_error    10000    704.894832\n",
              "39  0.5000                        huber     1000  18158.107491\n",
              "40  0.5000                        huber     5000  19529.446381\n",
              "41  0.5000                        huber    10000  21952.656003\n",
              "42  0.5000          epsilon_insensitive     1000   2167.651550\n",
              "43  0.5000          epsilon_insensitive     5000   1086.949650\n",
              "44  0.5000          epsilon_insensitive    10000    988.166203\n",
              "45  0.5000  squared_epsilon_insensitive     1000    743.621952\n",
              "46  0.5000  squared_epsilon_insensitive     5000    757.247419\n",
              "47  0.5000  squared_epsilon_insensitive    10000    620.051168"
            ],
            "text/html": [
              "\n",
              "  <div id=\"df-0368cfb8-0b5a-42fd-bbd2-3e3f8c1cff72\" class=\"colab-df-container\">\n",
              "    <div>\n",
              "<style scoped>\n",
              "    .dataframe tbody tr th:only-of-type {\n",
              "        vertical-align: middle;\n",
              "    }\n",
              "\n",
              "    .dataframe tbody tr th {\n",
              "        vertical-align: top;\n",
              "    }\n",
              "\n",
              "    .dataframe thead th {\n",
              "        text-align: right;\n",
              "    }\n",
              "</style>\n",
              "<table border=\"1\" class=\"dataframe\">\n",
              "  <thead>\n",
              "    <tr style=\"text-align: right;\">\n",
              "      <th></th>\n",
              "      <th>Alpha</th>\n",
              "      <th>Loss Function</th>\n",
              "      <th>Max Iter</th>\n",
              "      <th>MSE</th>\n",
              "    </tr>\n",
              "  </thead>\n",
              "  <tbody>\n",
              "    <tr>\n",
              "      <th>0</th>\n",
              "      <td>0.0001</td>\n",
              "      <td>squared_error</td>\n",
              "      <td>1000</td>\n",
              "      <td>622.254302</td>\n",
              "    </tr>\n",
              "    <tr>\n",
              "      <th>1</th>\n",
              "      <td>0.0001</td>\n",
              "      <td>squared_error</td>\n",
              "      <td>5000</td>\n",
              "      <td>1224.261728</td>\n",
              "    </tr>\n",
              "    <tr>\n",
              "      <th>2</th>\n",
              "      <td>0.0001</td>\n",
              "      <td>squared_error</td>\n",
              "      <td>10000</td>\n",
              "      <td>995.758427</td>\n",
              "    </tr>\n",
              "    <tr>\n",
              "      <th>3</th>\n",
              "      <td>0.0001</td>\n",
              "      <td>huber</td>\n",
              "      <td>1000</td>\n",
              "      <td>13595.776820</td>\n",
              "    </tr>\n",
              "    <tr>\n",
              "      <th>4</th>\n",
              "      <td>0.0001</td>\n",
              "      <td>huber</td>\n",
              "      <td>5000</td>\n",
              "      <td>13622.611876</td>\n",
              "    </tr>\n",
              "    <tr>\n",
              "      <th>5</th>\n",
              "      <td>0.0001</td>\n",
              "      <td>huber</td>\n",
              "      <td>10000</td>\n",
              "      <td>13639.176991</td>\n",
              "    </tr>\n",
              "    <tr>\n",
              "      <th>6</th>\n",
              "      <td>0.0001</td>\n",
              "      <td>epsilon_insensitive</td>\n",
              "      <td>1000</td>\n",
              "      <td>3123.078025</td>\n",
              "    </tr>\n",
              "    <tr>\n",
              "      <th>7</th>\n",
              "      <td>0.0001</td>\n",
              "      <td>epsilon_insensitive</td>\n",
              "      <td>5000</td>\n",
              "      <td>691.524165</td>\n",
              "    </tr>\n",
              "    <tr>\n",
              "      <th>8</th>\n",
              "      <td>0.0001</td>\n",
              "      <td>epsilon_insensitive</td>\n",
              "      <td>10000</td>\n",
              "      <td>710.148349</td>\n",
              "    </tr>\n",
              "    <tr>\n",
              "      <th>9</th>\n",
              "      <td>0.0001</td>\n",
              "      <td>squared_epsilon_insensitive</td>\n",
              "      <td>1000</td>\n",
              "      <td>665.100946</td>\n",
              "    </tr>\n",
              "    <tr>\n",
              "      <th>10</th>\n",
              "      <td>0.0001</td>\n",
              "      <td>squared_epsilon_insensitive</td>\n",
              "      <td>5000</td>\n",
              "      <td>935.629030</td>\n",
              "    </tr>\n",
              "    <tr>\n",
              "      <th>11</th>\n",
              "      <td>0.0001</td>\n",
              "      <td>squared_epsilon_insensitive</td>\n",
              "      <td>10000</td>\n",
              "      <td>740.935755</td>\n",
              "    </tr>\n",
              "    <tr>\n",
              "      <th>12</th>\n",
              "      <td>0.0100</td>\n",
              "      <td>squared_error</td>\n",
              "      <td>1000</td>\n",
              "      <td>633.846014</td>\n",
              "    </tr>\n",
              "    <tr>\n",
              "      <th>13</th>\n",
              "      <td>0.0100</td>\n",
              "      <td>squared_error</td>\n",
              "      <td>5000</td>\n",
              "      <td>857.274270</td>\n",
              "    </tr>\n",
              "    <tr>\n",
              "      <th>14</th>\n",
              "      <td>0.0100</td>\n",
              "      <td>squared_error</td>\n",
              "      <td>10000</td>\n",
              "      <td>709.425265</td>\n",
              "    </tr>\n",
              "    <tr>\n",
              "      <th>15</th>\n",
              "      <td>0.0100</td>\n",
              "      <td>huber</td>\n",
              "      <td>1000</td>\n",
              "      <td>13697.892675</td>\n",
              "    </tr>\n",
              "    <tr>\n",
              "      <th>16</th>\n",
              "      <td>0.0100</td>\n",
              "      <td>huber</td>\n",
              "      <td>5000</td>\n",
              "      <td>13679.160666</td>\n",
              "    </tr>\n",
              "    <tr>\n",
              "      <th>17</th>\n",
              "      <td>0.0100</td>\n",
              "      <td>huber</td>\n",
              "      <td>10000</td>\n",
              "      <td>13520.291844</td>\n",
              "    </tr>\n",
              "    <tr>\n",
              "      <th>18</th>\n",
              "      <td>0.0100</td>\n",
              "      <td>epsilon_insensitive</td>\n",
              "      <td>1000</td>\n",
              "      <td>3127.493704</td>\n",
              "    </tr>\n",
              "    <tr>\n",
              "      <th>19</th>\n",
              "      <td>0.0100</td>\n",
              "      <td>epsilon_insensitive</td>\n",
              "      <td>5000</td>\n",
              "      <td>728.309726</td>\n",
              "    </tr>\n",
              "    <tr>\n",
              "      <th>20</th>\n",
              "      <td>0.0100</td>\n",
              "      <td>epsilon_insensitive</td>\n",
              "      <td>10000</td>\n",
              "      <td>744.419148</td>\n",
              "    </tr>\n",
              "    <tr>\n",
              "      <th>21</th>\n",
              "      <td>0.0100</td>\n",
              "      <td>squared_epsilon_insensitive</td>\n",
              "      <td>1000</td>\n",
              "      <td>791.750084</td>\n",
              "    </tr>\n",
              "    <tr>\n",
              "      <th>22</th>\n",
              "      <td>0.0100</td>\n",
              "      <td>squared_epsilon_insensitive</td>\n",
              "      <td>5000</td>\n",
              "      <td>2975.282620</td>\n",
              "    </tr>\n",
              "    <tr>\n",
              "      <th>23</th>\n",
              "      <td>0.0100</td>\n",
              "      <td>squared_epsilon_insensitive</td>\n",
              "      <td>10000</td>\n",
              "      <td>648.481783</td>\n",
              "    </tr>\n",
              "    <tr>\n",
              "      <th>24</th>\n",
              "      <td>0.1000</td>\n",
              "      <td>squared_error</td>\n",
              "      <td>1000</td>\n",
              "      <td>699.263876</td>\n",
              "    </tr>\n",
              "    <tr>\n",
              "      <th>25</th>\n",
              "      <td>0.1000</td>\n",
              "      <td>squared_error</td>\n",
              "      <td>5000</td>\n",
              "      <td>619.417701</td>\n",
              "    </tr>\n",
              "    <tr>\n",
              "      <th>26</th>\n",
              "      <td>0.1000</td>\n",
              "      <td>squared_error</td>\n",
              "      <td>10000</td>\n",
              "      <td>653.743061</td>\n",
              "    </tr>\n",
              "    <tr>\n",
              "      <th>27</th>\n",
              "      <td>0.1000</td>\n",
              "      <td>huber</td>\n",
              "      <td>1000</td>\n",
              "      <td>14756.891612</td>\n",
              "    </tr>\n",
              "    <tr>\n",
              "      <th>28</th>\n",
              "      <td>0.1000</td>\n",
              "      <td>huber</td>\n",
              "      <td>5000</td>\n",
              "      <td>14588.054059</td>\n",
              "    </tr>\n",
              "    <tr>\n",
              "      <th>29</th>\n",
              "      <td>0.1000</td>\n",
              "      <td>huber</td>\n",
              "      <td>10000</td>\n",
              "      <td>14703.434812</td>\n",
              "    </tr>\n",
              "    <tr>\n",
              "      <th>30</th>\n",
              "      <td>0.1000</td>\n",
              "      <td>epsilon_insensitive</td>\n",
              "      <td>1000</td>\n",
              "      <td>2776.926783</td>\n",
              "    </tr>\n",
              "    <tr>\n",
              "      <th>31</th>\n",
              "      <td>0.1000</td>\n",
              "      <td>epsilon_insensitive</td>\n",
              "      <td>5000</td>\n",
              "      <td>725.814474</td>\n",
              "    </tr>\n",
              "    <tr>\n",
              "      <th>32</th>\n",
              "      <td>0.1000</td>\n",
              "      <td>epsilon_insensitive</td>\n",
              "      <td>10000</td>\n",
              "      <td>745.245581</td>\n",
              "    </tr>\n",
              "    <tr>\n",
              "      <th>33</th>\n",
              "      <td>0.1000</td>\n",
              "      <td>squared_epsilon_insensitive</td>\n",
              "      <td>1000</td>\n",
              "      <td>633.691189</td>\n",
              "    </tr>\n",
              "    <tr>\n",
              "      <th>34</th>\n",
              "      <td>0.1000</td>\n",
              "      <td>squared_epsilon_insensitive</td>\n",
              "      <td>5000</td>\n",
              "      <td>650.864012</td>\n",
              "    </tr>\n",
              "    <tr>\n",
              "      <th>35</th>\n",
              "      <td>0.1000</td>\n",
              "      <td>squared_epsilon_insensitive</td>\n",
              "      <td>10000</td>\n",
              "      <td>707.504958</td>\n",
              "    </tr>\n",
              "    <tr>\n",
              "      <th>36</th>\n",
              "      <td>0.5000</td>\n",
              "      <td>squared_error</td>\n",
              "      <td>1000</td>\n",
              "      <td>614.719838</td>\n",
              "    </tr>\n",
              "    <tr>\n",
              "      <th>37</th>\n",
              "      <td>0.5000</td>\n",
              "      <td>squared_error</td>\n",
              "      <td>5000</td>\n",
              "      <td>615.200258</td>\n",
              "    </tr>\n",
              "    <tr>\n",
              "      <th>38</th>\n",
              "      <td>0.5000</td>\n",
              "      <td>squared_error</td>\n",
              "      <td>10000</td>\n",
              "      <td>704.894832</td>\n",
              "    </tr>\n",
              "    <tr>\n",
              "      <th>39</th>\n",
              "      <td>0.5000</td>\n",
              "      <td>huber</td>\n",
              "      <td>1000</td>\n",
              "      <td>18158.107491</td>\n",
              "    </tr>\n",
              "    <tr>\n",
              "      <th>40</th>\n",
              "      <td>0.5000</td>\n",
              "      <td>huber</td>\n",
              "      <td>5000</td>\n",
              "      <td>19529.446381</td>\n",
              "    </tr>\n",
              "    <tr>\n",
              "      <th>41</th>\n",
              "      <td>0.5000</td>\n",
              "      <td>huber</td>\n",
              "      <td>10000</td>\n",
              "      <td>21952.656003</td>\n",
              "    </tr>\n",
              "    <tr>\n",
              "      <th>42</th>\n",
              "      <td>0.5000</td>\n",
              "      <td>epsilon_insensitive</td>\n",
              "      <td>1000</td>\n",
              "      <td>2167.651550</td>\n",
              "    </tr>\n",
              "    <tr>\n",
              "      <th>43</th>\n",
              "      <td>0.5000</td>\n",
              "      <td>epsilon_insensitive</td>\n",
              "      <td>5000</td>\n",
              "      <td>1086.949650</td>\n",
              "    </tr>\n",
              "    <tr>\n",
              "      <th>44</th>\n",
              "      <td>0.5000</td>\n",
              "      <td>epsilon_insensitive</td>\n",
              "      <td>10000</td>\n",
              "      <td>988.166203</td>\n",
              "    </tr>\n",
              "    <tr>\n",
              "      <th>45</th>\n",
              "      <td>0.5000</td>\n",
              "      <td>squared_epsilon_insensitive</td>\n",
              "      <td>1000</td>\n",
              "      <td>743.621952</td>\n",
              "    </tr>\n",
              "    <tr>\n",
              "      <th>46</th>\n",
              "      <td>0.5000</td>\n",
              "      <td>squared_epsilon_insensitive</td>\n",
              "      <td>5000</td>\n",
              "      <td>757.247419</td>\n",
              "    </tr>\n",
              "    <tr>\n",
              "      <th>47</th>\n",
              "      <td>0.5000</td>\n",
              "      <td>squared_epsilon_insensitive</td>\n",
              "      <td>10000</td>\n",
              "      <td>620.051168</td>\n",
              "    </tr>\n",
              "  </tbody>\n",
              "</table>\n",
              "</div>\n",
              "    <div class=\"colab-df-buttons\">\n",
              "\n",
              "  <div class=\"colab-df-container\">\n",
              "    <button class=\"colab-df-convert\" onclick=\"convertToInteractive('df-0368cfb8-0b5a-42fd-bbd2-3e3f8c1cff72')\"\n",
              "            title=\"Convert this dataframe to an interactive table.\"\n",
              "            style=\"display:none;\">\n",
              "\n",
              "  <svg xmlns=\"http://www.w3.org/2000/svg\" height=\"24px\" viewBox=\"0 -960 960 960\">\n",
              "    <path d=\"M120-120v-720h720v720H120Zm60-500h600v-160H180v160Zm220 220h160v-160H400v160Zm0 220h160v-160H400v160ZM180-400h160v-160H180v160Zm440 0h160v-160H620v160ZM180-180h160v-160H180v160Zm440 0h160v-160H620v160Z\"/>\n",
              "  </svg>\n",
              "    </button>\n",
              "\n",
              "  <style>\n",
              "    .colab-df-container {\n",
              "      display:flex;\n",
              "      gap: 12px;\n",
              "    }\n",
              "\n",
              "    .colab-df-convert {\n",
              "      background-color: #E8F0FE;\n",
              "      border: none;\n",
              "      border-radius: 50%;\n",
              "      cursor: pointer;\n",
              "      display: none;\n",
              "      fill: #1967D2;\n",
              "      height: 32px;\n",
              "      padding: 0 0 0 0;\n",
              "      width: 32px;\n",
              "    }\n",
              "\n",
              "    .colab-df-convert:hover {\n",
              "      background-color: #E2EBFA;\n",
              "      box-shadow: 0px 1px 2px rgba(60, 64, 67, 0.3), 0px 1px 3px 1px rgba(60, 64, 67, 0.15);\n",
              "      fill: #174EA6;\n",
              "    }\n",
              "\n",
              "    .colab-df-buttons div {\n",
              "      margin-bottom: 4px;\n",
              "    }\n",
              "\n",
              "    [theme=dark] .colab-df-convert {\n",
              "      background-color: #3B4455;\n",
              "      fill: #D2E3FC;\n",
              "    }\n",
              "\n",
              "    [theme=dark] .colab-df-convert:hover {\n",
              "      background-color: #434B5C;\n",
              "      box-shadow: 0px 1px 3px 1px rgba(0, 0, 0, 0.15);\n",
              "      filter: drop-shadow(0px 1px 2px rgba(0, 0, 0, 0.3));\n",
              "      fill: #FFFFFF;\n",
              "    }\n",
              "  </style>\n",
              "\n",
              "    <script>\n",
              "      const buttonEl =\n",
              "        document.querySelector('#df-0368cfb8-0b5a-42fd-bbd2-3e3f8c1cff72 button.colab-df-convert');\n",
              "      buttonEl.style.display =\n",
              "        google.colab.kernel.accessAllowed ? 'block' : 'none';\n",
              "\n",
              "      async function convertToInteractive(key) {\n",
              "        const element = document.querySelector('#df-0368cfb8-0b5a-42fd-bbd2-3e3f8c1cff72');\n",
              "        const dataTable =\n",
              "          await google.colab.kernel.invokeFunction('convertToInteractive',\n",
              "                                                    [key], {});\n",
              "        if (!dataTable) return;\n",
              "\n",
              "        const docLinkHtml = 'Like what you see? Visit the ' +\n",
              "          '<a target=\"_blank\" href=https://colab.research.google.com/notebooks/data_table.ipynb>data table notebook</a>'\n",
              "          + ' to learn more about interactive tables.';\n",
              "        element.innerHTML = '';\n",
              "        dataTable['output_type'] = 'display_data';\n",
              "        await google.colab.output.renderOutput(dataTable, element);\n",
              "        const docLink = document.createElement('div');\n",
              "        docLink.innerHTML = docLinkHtml;\n",
              "        element.appendChild(docLink);\n",
              "      }\n",
              "    </script>\n",
              "  </div>\n",
              "\n",
              "\n",
              "<div id=\"df-812b9b84-4b07-4761-9963-5dc15b86e84d\">\n",
              "  <button class=\"colab-df-quickchart\" onclick=\"quickchart('df-812b9b84-4b07-4761-9963-5dc15b86e84d')\"\n",
              "            title=\"Suggest charts.\"\n",
              "            style=\"display:none;\">\n",
              "\n",
              "<svg xmlns=\"http://www.w3.org/2000/svg\" height=\"24px\"viewBox=\"0 0 24 24\"\n",
              "     width=\"24px\">\n",
              "    <g>\n",
              "        <path d=\"M19 3H5c-1.1 0-2 .9-2 2v14c0 1.1.9 2 2 2h14c1.1 0 2-.9 2-2V5c0-1.1-.9-2-2-2zM9 17H7v-7h2v7zm4 0h-2V7h2v10zm4 0h-2v-4h2v4z\"/>\n",
              "    </g>\n",
              "</svg>\n",
              "  </button>\n",
              "\n",
              "<style>\n",
              "  .colab-df-quickchart {\n",
              "      --bg-color: #E8F0FE;\n",
              "      --fill-color: #1967D2;\n",
              "      --hover-bg-color: #E2EBFA;\n",
              "      --hover-fill-color: #174EA6;\n",
              "      --disabled-fill-color: #AAA;\n",
              "      --disabled-bg-color: #DDD;\n",
              "  }\n",
              "\n",
              "  [theme=dark] .colab-df-quickchart {\n",
              "      --bg-color: #3B4455;\n",
              "      --fill-color: #D2E3FC;\n",
              "      --hover-bg-color: #434B5C;\n",
              "      --hover-fill-color: #FFFFFF;\n",
              "      --disabled-bg-color: #3B4455;\n",
              "      --disabled-fill-color: #666;\n",
              "  }\n",
              "\n",
              "  .colab-df-quickchart {\n",
              "    background-color: var(--bg-color);\n",
              "    border: none;\n",
              "    border-radius: 50%;\n",
              "    cursor: pointer;\n",
              "    display: none;\n",
              "    fill: var(--fill-color);\n",
              "    height: 32px;\n",
              "    padding: 0;\n",
              "    width: 32px;\n",
              "  }\n",
              "\n",
              "  .colab-df-quickchart:hover {\n",
              "    background-color: var(--hover-bg-color);\n",
              "    box-shadow: 0 1px 2px rgba(60, 64, 67, 0.3), 0 1px 3px 1px rgba(60, 64, 67, 0.15);\n",
              "    fill: var(--button-hover-fill-color);\n",
              "  }\n",
              "\n",
              "  .colab-df-quickchart-complete:disabled,\n",
              "  .colab-df-quickchart-complete:disabled:hover {\n",
              "    background-color: var(--disabled-bg-color);\n",
              "    fill: var(--disabled-fill-color);\n",
              "    box-shadow: none;\n",
              "  }\n",
              "\n",
              "  .colab-df-spinner {\n",
              "    border: 2px solid var(--fill-color);\n",
              "    border-color: transparent;\n",
              "    border-bottom-color: var(--fill-color);\n",
              "    animation:\n",
              "      spin 1s steps(1) infinite;\n",
              "  }\n",
              "\n",
              "  @keyframes spin {\n",
              "    0% {\n",
              "      border-color: transparent;\n",
              "      border-bottom-color: var(--fill-color);\n",
              "      border-left-color: var(--fill-color);\n",
              "    }\n",
              "    20% {\n",
              "      border-color: transparent;\n",
              "      border-left-color: var(--fill-color);\n",
              "      border-top-color: var(--fill-color);\n",
              "    }\n",
              "    30% {\n",
              "      border-color: transparent;\n",
              "      border-left-color: var(--fill-color);\n",
              "      border-top-color: var(--fill-color);\n",
              "      border-right-color: var(--fill-color);\n",
              "    }\n",
              "    40% {\n",
              "      border-color: transparent;\n",
              "      border-right-color: var(--fill-color);\n",
              "      border-top-color: var(--fill-color);\n",
              "    }\n",
              "    60% {\n",
              "      border-color: transparent;\n",
              "      border-right-color: var(--fill-color);\n",
              "    }\n",
              "    80% {\n",
              "      border-color: transparent;\n",
              "      border-right-color: var(--fill-color);\n",
              "      border-bottom-color: var(--fill-color);\n",
              "    }\n",
              "    90% {\n",
              "      border-color: transparent;\n",
              "      border-bottom-color: var(--fill-color);\n",
              "    }\n",
              "  }\n",
              "</style>\n",
              "\n",
              "  <script>\n",
              "    async function quickchart(key) {\n",
              "      const quickchartButtonEl =\n",
              "        document.querySelector('#' + key + ' button');\n",
              "      quickchartButtonEl.disabled = true;  // To prevent multiple clicks.\n",
              "      quickchartButtonEl.classList.add('colab-df-spinner');\n",
              "      try {\n",
              "        const charts = await google.colab.kernel.invokeFunction(\n",
              "            'suggestCharts', [key], {});\n",
              "      } catch (error) {\n",
              "        console.error('Error during call to suggestCharts:', error);\n",
              "      }\n",
              "      quickchartButtonEl.classList.remove('colab-df-spinner');\n",
              "      quickchartButtonEl.classList.add('colab-df-quickchart-complete');\n",
              "    }\n",
              "    (() => {\n",
              "      let quickchartButtonEl =\n",
              "        document.querySelector('#df-812b9b84-4b07-4761-9963-5dc15b86e84d button');\n",
              "      quickchartButtonEl.style.display =\n",
              "        google.colab.kernel.accessAllowed ? 'block' : 'none';\n",
              "    })();\n",
              "  </script>\n",
              "</div>\n",
              "    </div>\n",
              "  </div>\n"
            ]
          },
          "metadata": {},
          "execution_count": 23
        }
      ]
    },
    {
      "cell_type": "code",
      "source": [
        "print(\"Mejores hiperparámetros:\", best_parameters)"
      ],
      "metadata": {
        "colab": {
          "base_uri": "https://localhost:8080/"
        },
        "id": "9WZwWGoABU47",
        "outputId": "405478ee-58a6-418e-ac2e-22204ef1e0ee"
      },
      "execution_count": null,
      "outputs": [
        {
          "output_type": "stream",
          "name": "stdout",
          "text": [
            "Mejores hiperparámetros: {'alpha': 0.5, 'loss': 'squared_error', 'max_iter': 1000}\n"
          ]
        }
      ]
    },
    {
      "cell_type": "markdown",
      "source": [
        "**Mejores hiperparametros**\n",
        "\n",
        "Los resultados de cada iteración se guardaron en un dataset para comprobar que efectivamente se estuviera eligiendo los parametros que dminimizaran el error en el set de validación. Los parametros elegidos son:\n",
        "\n",
        "- alpha: 0.5\n",
        "- loss: 'squared_error'\n",
        "- max_iter: 1000"
      ],
      "metadata": {
        "id": "9Xyv16rYRZ9K"
      }
    },
    {
      "cell_type": "markdown",
      "source": [
        "**Cambios de hiperparametros**"
      ],
      "metadata": {
        "id": "TNIu8XWlYxtk"
      }
    },
    {
      "cell_type": "code",
      "source": [
        "from sklearn.linear_model import LinearRegression\n",
        "model1 = SGDRegressor(loss='squared_error',alpha=0.5, l1_ratio=0.5,\n",
        "                      max_iter=1000, tol=0.01,\n",
        "                      epsilon=0.2, random_state=6,\n",
        "                      validation_fraction=0.1, n_iter_no_change=5)\n",
        "#model1 = LinearRegression()\n",
        "model1.fit(X_train, y_train)"
      ],
      "metadata": {
        "colab": {
          "base_uri": "https://localhost:8080/",
          "height": 129
        },
        "id": "3q7ac8rAYqyW",
        "outputId": "ed1fed85-458d-4ce9-f69f-e9465b979dfe"
      },
      "execution_count": null,
      "outputs": [
        {
          "output_type": "stream",
          "name": "stderr",
          "text": [
            "/usr/local/lib/python3.10/dist-packages/sklearn/utils/validation.py:1143: DataConversionWarning: A column-vector y was passed when a 1d array was expected. Please change the shape of y to (n_samples, ), for example using ravel().\n",
            "  y = column_or_1d(y, warn=True)\n"
          ]
        },
        {
          "output_type": "execute_result",
          "data": {
            "text/plain": [
              "SGDRegressor(alpha=0.5, epsilon=0.2, l1_ratio=0.5, random_state=6, tol=0.01)"
            ],
            "text/html": [
              "<style>#sk-container-id-11 {color: black;background-color: white;}#sk-container-id-11 pre{padding: 0;}#sk-container-id-11 div.sk-toggleable {background-color: white;}#sk-container-id-11 label.sk-toggleable__label {cursor: pointer;display: block;width: 100%;margin-bottom: 0;padding: 0.3em;box-sizing: border-box;text-align: center;}#sk-container-id-11 label.sk-toggleable__label-arrow:before {content: \"▸\";float: left;margin-right: 0.25em;color: #696969;}#sk-container-id-11 label.sk-toggleable__label-arrow:hover:before {color: black;}#sk-container-id-11 div.sk-estimator:hover label.sk-toggleable__label-arrow:before {color: black;}#sk-container-id-11 div.sk-toggleable__content {max-height: 0;max-width: 0;overflow: hidden;text-align: left;background-color: #f0f8ff;}#sk-container-id-11 div.sk-toggleable__content pre {margin: 0.2em;color: black;border-radius: 0.25em;background-color: #f0f8ff;}#sk-container-id-11 input.sk-toggleable__control:checked~div.sk-toggleable__content {max-height: 200px;max-width: 100%;overflow: auto;}#sk-container-id-11 input.sk-toggleable__control:checked~label.sk-toggleable__label-arrow:before {content: \"▾\";}#sk-container-id-11 div.sk-estimator input.sk-toggleable__control:checked~label.sk-toggleable__label {background-color: #d4ebff;}#sk-container-id-11 div.sk-label input.sk-toggleable__control:checked~label.sk-toggleable__label {background-color: #d4ebff;}#sk-container-id-11 input.sk-hidden--visually {border: 0;clip: rect(1px 1px 1px 1px);clip: rect(1px, 1px, 1px, 1px);height: 1px;margin: -1px;overflow: hidden;padding: 0;position: absolute;width: 1px;}#sk-container-id-11 div.sk-estimator {font-family: monospace;background-color: #f0f8ff;border: 1px dotted black;border-radius: 0.25em;box-sizing: border-box;margin-bottom: 0.5em;}#sk-container-id-11 div.sk-estimator:hover {background-color: #d4ebff;}#sk-container-id-11 div.sk-parallel-item::after {content: \"\";width: 100%;border-bottom: 1px solid gray;flex-grow: 1;}#sk-container-id-11 div.sk-label:hover label.sk-toggleable__label {background-color: #d4ebff;}#sk-container-id-11 div.sk-serial::before {content: \"\";position: absolute;border-left: 1px solid gray;box-sizing: border-box;top: 0;bottom: 0;left: 50%;z-index: 0;}#sk-container-id-11 div.sk-serial {display: flex;flex-direction: column;align-items: center;background-color: white;padding-right: 0.2em;padding-left: 0.2em;position: relative;}#sk-container-id-11 div.sk-item {position: relative;z-index: 1;}#sk-container-id-11 div.sk-parallel {display: flex;align-items: stretch;justify-content: center;background-color: white;position: relative;}#sk-container-id-11 div.sk-item::before, #sk-container-id-11 div.sk-parallel-item::before {content: \"\";position: absolute;border-left: 1px solid gray;box-sizing: border-box;top: 0;bottom: 0;left: 50%;z-index: -1;}#sk-container-id-11 div.sk-parallel-item {display: flex;flex-direction: column;z-index: 1;position: relative;background-color: white;}#sk-container-id-11 div.sk-parallel-item:first-child::after {align-self: flex-end;width: 50%;}#sk-container-id-11 div.sk-parallel-item:last-child::after {align-self: flex-start;width: 50%;}#sk-container-id-11 div.sk-parallel-item:only-child::after {width: 0;}#sk-container-id-11 div.sk-dashed-wrapped {border: 1px dashed gray;margin: 0 0.4em 0.5em 0.4em;box-sizing: border-box;padding-bottom: 0.4em;background-color: white;}#sk-container-id-11 div.sk-label label {font-family: monospace;font-weight: bold;display: inline-block;line-height: 1.2em;}#sk-container-id-11 div.sk-label-container {text-align: center;}#sk-container-id-11 div.sk-container {/* jupyter's `normalize.less` sets `[hidden] { display: none; }` but bootstrap.min.css set `[hidden] { display: none !important; }` so we also need the `!important` here to be able to override the default hidden behavior on the sphinx rendered scikit-learn.org. See: https://github.com/scikit-learn/scikit-learn/issues/21755 */display: inline-block !important;position: relative;}#sk-container-id-11 div.sk-text-repr-fallback {display: none;}</style><div id=\"sk-container-id-11\" class=\"sk-top-container\"><div class=\"sk-text-repr-fallback\"><pre>SGDRegressor(alpha=0.5, epsilon=0.2, l1_ratio=0.5, random_state=6, tol=0.01)</pre><b>In a Jupyter environment, please rerun this cell to show the HTML representation or trust the notebook. <br />On GitHub, the HTML representation is unable to render, please try loading this page with nbviewer.org.</b></div><div class=\"sk-container\" hidden><div class=\"sk-item\"><div class=\"sk-estimator sk-toggleable\"><input class=\"sk-toggleable__control sk-hidden--visually\" id=\"sk-estimator-id-11\" type=\"checkbox\" checked><label for=\"sk-estimator-id-11\" class=\"sk-toggleable__label sk-toggleable__label-arrow\">SGDRegressor</label><div class=\"sk-toggleable__content\"><pre>SGDRegressor(alpha=0.5, epsilon=0.2, l1_ratio=0.5, random_state=6, tol=0.01)</pre></div></div></div></div></div>"
            ]
          },
          "metadata": {},
          "execution_count": 78
        }
      ]
    },
    {
      "cell_type": "code",
      "source": [
        "#subset de entrenamiento\n",
        "y_train_pred = model1.predict(X_train)\n",
        "\n",
        "mse_train = mean_squared_error(y_train, y_train_pred)\n",
        "\n",
        "mae_train = mean_absolute_error(y_train, y_train_pred)\n",
        "\n",
        "r2_train = r2_score(y_train, y_train_pred)\n",
        "\n",
        "\n",
        "print(\"subset de entrenamiento\")\n",
        "print(f\"MSE en conjunto de entrenamiento: {mse_train:.2f}\")\n",
        "print(f\"MAE en conjunto de entrenamiento: {mae_train:.2f}\")\n",
        "print(f\"R2 en conjunto de entrenamiento: {r2_train:.2f}\")"
      ],
      "metadata": {
        "colab": {
          "base_uri": "https://localhost:8080/"
        },
        "id": "KHzrfy-XZkvR",
        "outputId": "26aeda51-a08f-4bd2-c9a2-7764a4ed6b80"
      },
      "execution_count": null,
      "outputs": [
        {
          "output_type": "stream",
          "name": "stdout",
          "text": [
            "subset de entrenamiento\n",
            "MSE en conjunto de entrenamiento: 697.32\n",
            "MAE en conjunto de entrenamiento: 15.94\n",
            "R2 en conjunto de entrenamiento: 0.80\n"
          ]
        }
      ]
    },
    {
      "cell_type": "code",
      "source": [
        "#subset de validacion\n",
        "y_val_pred = model1.predict(X_val)\n",
        "\n",
        "mse_val = mean_squared_error(y_val, y_val_pred)\n",
        "\n",
        "mae_val = mean_absolute_error(y_val, y_val_pred)\n",
        "\n",
        "r2_val = r2_score(y_train, y_train_pred)\n",
        "\n",
        "\n",
        "print(\"subset de validacion\")\n",
        "print(f\"MSE en conjunto de validacion: {mse_val:.2f}\")\n",
        "print(f\"MAE en conjunto de validacion: {mae_val:.2f}\")\n",
        "print(f\"R2 en conjunto de validacion: {r2_val:.2f}\")"
      ],
      "metadata": {
        "colab": {
          "base_uri": "https://localhost:8080/"
        },
        "id": "NjTazp7dZq8E",
        "outputId": "cf296480-1502-4826-c4af-37a0c790d53c"
      },
      "execution_count": null,
      "outputs": [
        {
          "output_type": "stream",
          "name": "stdout",
          "text": [
            "subset de validacion\n",
            "MSE en conjunto de validacion: 725.26\n",
            "MAE en conjunto de validacion: 16.07\n",
            "R2 en conjunto de validacion: 0.80\n"
          ]
        }
      ]
    },
    {
      "cell_type": "code",
      "source": [
        "#subset prueba\n",
        "y_test_pred = model1.predict(X_test)\n",
        "mse_test = mean_squared_error(y_test, y_test_pred)\n",
        "mae_test = mean_absolute_error(y_test, y_test_pred)\n",
        "r2_test = r2_score(y_test, y_test_pred)\n",
        "\n",
        "print(\"subset de prueba\")\n",
        "print(f\"MSE en conjunto de Test: {mse_test:.2f}\")\n",
        "print(f\"MAE en conjunto de Test: {mae_test:.2f}\")\n",
        "print(f\"R2 en conjunto de Test: {r2_test:.2f}\")"
      ],
      "metadata": {
        "colab": {
          "base_uri": "https://localhost:8080/"
        },
        "id": "G0q4mjBkZwTI",
        "outputId": "85003460-b279-45ef-e7dd-72cc175c15fd"
      },
      "execution_count": null,
      "outputs": [
        {
          "output_type": "stream",
          "name": "stdout",
          "text": [
            "subset de prueba\n",
            "MSE en conjunto de Test: 736.19\n",
            "MAE en conjunto de Test: 16.36\n",
            "R2 en conjunto de Test: 0.79\n"
          ]
        }
      ]
    },
    {
      "cell_type": "markdown",
      "source": [
        "**Observaciones**\n",
        "\n",
        "En el set de prueba el error MSE aumentó con estos nuevos hiperparámetros pero no fue un cambio considerable, así que el modelo quedó casi igual que al inicio por lo que se probará hacer una regresión de segundo grado, pero antes se analizará el sesgo, varianza y nivel de ajuste del modelo."
      ],
      "metadata": {
        "id": "FRlmV8BQaD2O"
      }
    },
    {
      "cell_type": "markdown",
      "source": [
        "**Diagnostico del grado de bias o sesgo**\n",
        "\n",
        "En la grafica se observa que los datos no se ajustan a la linea de la regresion lo que indica que hay underfiting y por lo tanto hay sesgo. Otra forma de ver el sesgo es porque hay varias regiones donde el error es muy grande y esto indica un sesgo alto."
      ],
      "metadata": {
        "id": "Lv2ToGRgVHpG"
      }
    },
    {
      "cell_type": "code",
      "source": [
        "y_train_pred = model1.predict(X_train)\n",
        "y_test_pred = model1.predict(X_test)\n"
      ],
      "metadata": {
        "id": "N864xlPwVBwN"
      },
      "execution_count": null,
      "outputs": []
    },
    {
      "cell_type": "code",
      "source": [
        "# Gráfico de diagnóstico de Bias (Sesgo)\n",
        "plt.figure(figsize=(12, 6))\n",
        "plt.subplot(1, 2, 2)\n",
        "plt.scatter(X_test, y_test, label='Datos de prueba', color='b')\n",
        "plt.plot(X_test, y_test_pred, label='Predicciones', color='r')\n",
        "plt.xlabel('Característica')\n",
        "plt.ylabel('Objetivo')\n",
        "plt.title('Diagnóstico de sesgo y varianza')\n",
        "plt.legend()\n",
        "\n",
        "plt.tight_layout()\n",
        "plt.show()\n",
        "\n",
        "\n",
        "\n"
      ],
      "metadata": {
        "colab": {
          "base_uri": "https://localhost:8080/",
          "height": 607
        },
        "id": "Iqbw_iVoq4t8",
        "outputId": "d496a4ea-d679-4800-e6c4-2072fc7b4a70"
      },
      "execution_count": null,
      "outputs": [
        {
          "output_type": "display_data",
          "data": {
            "text/plain": [
              "<Figure size 1200x600 with 1 Axes>"
            ],
            "image/png": "[encoded data removed]"
          },
          "metadata": {}
        }
      ]
    },
    {
      "cell_type": "markdown",
      "source": [
        "**Diagnóstico de varianza**\n",
        "\n",
        "En las curvas de aprendizaje se observa que aunque cambie el tamaño del conjunto de Train el error se mantiene estable, de hecho practicamente no cambia nada lo que indica que la varianza en los datos es muy baja."
      ],
      "metadata": {
        "id": "jikz83bma-OP"
      }
    },
    {
      "cell_type": "code",
      "source": [
        "#curvas de aprendizaje\n",
        "\n",
        "from sklearn.model_selection import learning_curve\n",
        "train_sizes, train_scores, test_scores = learning_curve(model1, X.values.reshape(-1,1), y.values.reshape(-1,1), cv=5, scoring='neg_mean_squared_error')\n",
        "\n",
        "# Calcular las medias y desviaciones estándar de los puntajes\n",
        "train_mean = -np.mean(train_scores, axis=1)\n",
        "train_std = np.std(train_scores, axis=1)\n",
        "test_mean = -np.mean(test_scores, axis=1)\n",
        "test_std = np.std(test_scores, axis=1)\n",
        "\n",
        "# Crear el gráfico de curvas de aprendizaje\n",
        "plt.figure(figsize=(10, 6))\n",
        "plt.plot(train_sizes, train_mean, label='Entrenamiento', marker='o', linestyle='-')\n",
        "plt.fill_between(train_sizes, train_mean - train_std, train_mean + train_std, alpha=0.15)\n",
        "plt.plot(train_sizes, test_mean, label='Validación', marker='o', linestyle='-')\n",
        "plt.fill_between(train_sizes, test_mean - test_std, test_mean + test_std, alpha=0.15)\n",
        "plt.xlabel('Tamaño del Conjunto de Entrenamiento')\n",
        "plt.ylabel('Error Cuadrático Medio')\n",
        "plt.legend()\n",
        "plt.title('Curva de Aprendizaje')\n",
        "plt.grid(True)\n",
        "plt.show()"
      ],
      "metadata": {
        "colab": {
          "base_uri": "https://localhost:8080/",
          "height": 1000
        },
        "id": "mwqrAuUssSpd",
        "outputId": "2c68ddbb-fb69-40b2-fda9-45f44ad442ae"
      },
      "execution_count": null,
      "outputs": [
        {
          "output_type": "stream",
          "name": "stderr",
          "text": [
            "/usr/local/lib/python3.10/dist-packages/sklearn/utils/validation.py:1143: DataConversionWarning: A column-vector y was passed when a 1d array was expected. Please change the shape of y to (n_samples, ), for example using ravel().\n",
            "  y = column_or_1d(y, warn=True)\n",
            "/usr/local/lib/python3.10/dist-packages/sklearn/utils/validation.py:1143: DataConversionWarning: A column-vector y was passed when a 1d array was expected. Please change the shape of y to (n_samples, ), for example using ravel().\n",
            "  y = column_or_1d(y, warn=True)\n",
            "/usr/local/lib/python3.10/dist-packages/sklearn/utils/validation.py:1143: DataConversionWarning: A column-vector y was passed when a 1d array was expected. Please change the shape of y to (n_samples, ), for example using ravel().\n",
            "  y = column_or_1d(y, warn=True)\n",
            "/usr/local/lib/python3.10/dist-packages/sklearn/utils/validation.py:1143: DataConversionWarning: A column-vector y was passed when a 1d array was expected. Please change the shape of y to (n_samples, ), for example using ravel().\n",
            "  y = column_or_1d(y, warn=True)\n",
            "/usr/local/lib/python3.10/dist-packages/sklearn/utils/validation.py:1143: DataConversionWarning: A column-vector y was passed when a 1d array was expected. Please change the shape of y to (n_samples, ), for example using ravel().\n",
            "  y = column_or_1d(y, warn=True)\n",
            "/usr/local/lib/python3.10/dist-packages/sklearn/utils/validation.py:1143: DataConversionWarning: A column-vector y was passed when a 1d array was expected. Please change the shape of y to (n_samples, ), for example using ravel().\n",
            "  y = column_or_1d(y, warn=True)\n",
            "/usr/local/lib/python3.10/dist-packages/sklearn/utils/validation.py:1143: DataConversionWarning: A column-vector y was passed when a 1d array was expected. Please change the shape of y to (n_samples, ), for example using ravel().\n",
            "  y = column_or_1d(y, warn=True)\n",
            "/usr/local/lib/python3.10/dist-packages/sklearn/utils/validation.py:1143: DataConversionWarning: A column-vector y was passed when a 1d array was expected. Please change the shape of y to (n_samples, ), for example using ravel().\n",
            "  y = column_or_1d(y, warn=True)\n",
            "/usr/local/lib/python3.10/dist-packages/sklearn/utils/validation.py:1143: DataConversionWarning: A column-vector y was passed when a 1d array was expected. Please change the shape of y to (n_samples, ), for example using ravel().\n",
            "  y = column_or_1d(y, warn=True)\n",
            "/usr/local/lib/python3.10/dist-packages/sklearn/utils/validation.py:1143: DataConversionWarning: A column-vector y was passed when a 1d array was expected. Please change the shape of y to (n_samples, ), for example using ravel().\n",
            "  y = column_or_1d(y, warn=True)\n",
            "/usr/local/lib/python3.10/dist-packages/sklearn/utils/validation.py:1143: DataConversionWarning: A column-vector y was passed when a 1d array was expected. Please change the shape of y to (n_samples, ), for example using ravel().\n",
            "  y = column_or_1d(y, warn=True)\n",
            "/usr/local/lib/python3.10/dist-packages/sklearn/utils/validation.py:1143: DataConversionWarning: A column-vector y was passed when a 1d array was expected. Please change the shape of y to (n_samples, ), for example using ravel().\n",
            "  y = column_or_1d(y, warn=True)\n",
            "/usr/local/lib/python3.10/dist-packages/sklearn/utils/validation.py:1143: DataConversionWarning: A column-vector y was passed when a 1d array was expected. Please change the shape of y to (n_samples, ), for example using ravel().\n",
            "  y = column_or_1d(y, warn=True)\n",
            "/usr/local/lib/python3.10/dist-packages/sklearn/utils/validation.py:1143: DataConversionWarning: A column-vector y was passed when a 1d array was expected. Please change the shape of y to (n_samples, ), for example using ravel().\n",
            "  y = column_or_1d(y, warn=True)\n",
            "/usr/local/lib/python3.10/dist-packages/sklearn/utils/validation.py:1143: DataConversionWarning: A column-vector y was passed when a 1d array was expected. Please change the shape of y to (n_samples, ), for example using ravel().\n",
            "  y = column_or_1d(y, warn=True)\n",
            "/usr/local/lib/python3.10/dist-packages/sklearn/utils/validation.py:1143: DataConversionWarning: A column-vector y was passed when a 1d array was expected. Please change the shape of y to (n_samples, ), for example using ravel().\n",
            "  y = column_or_1d(y, warn=True)\n",
            "/usr/local/lib/python3.10/dist-packages/sklearn/utils/validation.py:1143: DataConversionWarning: A column-vector y was passed when a 1d array was expected. Please change the shape of y to (n_samples, ), for example using ravel().\n",
            "  y = column_or_1d(y, warn=True)\n",
            "/usr/local/lib/python3.10/dist-packages/sklearn/utils/validation.py:1143: DataConversionWarning: A column-vector y was passed when a 1d array was expected. Please change the shape of y to (n_samples, ), for example using ravel().\n",
            "  y = column_or_1d(y, warn=True)\n",
            "/usr/local/lib/python3.10/dist-packages/sklearn/utils/validation.py:1143: DataConversionWarning: A column-vector y was passed when a 1d array was expected. Please change the shape of y to (n_samples, ), for example using ravel().\n",
            "  y = column_or_1d(y, warn=True)\n",
            "/usr/local/lib/python3.10/dist-packages/sklearn/utils/validation.py:1143: DataConversionWarning: A column-vector y was passed when a 1d array was expected. Please change the shape of y to (n_samples, ), for example using ravel().\n",
            "  y = column_or_1d(y, warn=True)\n",
            "/usr/local/lib/python3.10/dist-packages/sklearn/utils/validation.py:1143: DataConversionWarning: A column-vector y was passed when a 1d array was expected. Please change the shape of y to (n_samples, ), for example using ravel().\n",
            "  y = column_or_1d(y, warn=True)\n",
            "/usr/local/lib/python3.10/dist-packages/sklearn/utils/validation.py:1143: DataConversionWarning: A column-vector y was passed when a 1d array was expected. Please change the shape of y to (n_samples, ), for example using ravel().\n",
            "  y = column_or_1d(y, warn=True)\n",
            "/usr/local/lib/python3.10/dist-packages/sklearn/utils/validation.py:1143: DataConversionWarning: A column-vector y was passed when a 1d array was expected. Please change the shape of y to (n_samples, ), for example using ravel().\n",
            "  y = column_or_1d(y, warn=True)\n",
            "/usr/local/lib/python3.10/dist-packages/sklearn/utils/validation.py:1143: DataConversionWarning: A column-vector y was passed when a 1d array was expected. Please change the shape of y to (n_samples, ), for example using ravel().\n",
            "  y = column_or_1d(y, warn=True)\n",
            "/usr/local/lib/python3.10/dist-packages/sklearn/utils/validation.py:1143: DataConversionWarning: A column-vector y was passed when a 1d array was expected. Please change the shape of y to (n_samples, ), for example using ravel().\n",
            "  y = column_or_1d(y, warn=True)\n"
          ]
        },
        {
          "output_type": "display_data",
          "data": {
            "text/plain": [
              "<Figure size 1000x600 with 1 Axes>"
            ],
            "image/png": "[encoded data removed]"
          },
          "metadata": {}
        }
      ]
    },
    {
      "cell_type": "markdown",
      "source": [
        "**Diagnostico del nivel de ajuste del modelo**\n",
        "\n",
        "De acuerdo a lo obtenido en la validacion del error del modelo y en la siguiente gráfica podríamos concluir que el modelo tiene undefiting ya que no se ajustan bien los datos reales a las predicciones."
      ],
      "metadata": {
        "id": "cXvtO4SFtgeW"
      }
    },
    {
      "cell_type": "code",
      "source": [
        "# Gráfico de diagnóstico de Bias (Sesgo)\n",
        "plt.figure(figsize=(12, 6))\n",
        "plt.subplot(1, 2, 2)\n",
        "plt.scatter(X_test, y_test, label='Datos de prueba', color='b')\n",
        "plt.plot(X_test, y_test_pred, label='Predicciones', color='r')\n",
        "plt.xlabel('Característica')\n",
        "plt.ylabel('Objetivo')\n",
        "plt.title('Diagnóstico de sesgo y varianza')\n",
        "plt.legend()\n",
        "\n",
        "plt.tight_layout()\n",
        "plt.show()"
      ],
      "metadata": {
        "id": "d5J6IVHh1SPF"
      },
      "execution_count": null,
      "outputs": []
    },
    {
      "cell_type": "markdown",
      "source": [
        "# **Segundo modelo**\n",
        "\n",
        "Debido que el modelo lineal practicamente no mejoró con el cambio de hiperparámetros y que los datos parecen tener un comportamniento en forma de curva, se decidió hacer una regresión polinómica de segundo grado.\n",
        "\n",
        "**Regularización**\n",
        "\n",
        "La regularización se usa principalmente en modelos lineales para evitar el sobreajuste, pero en regresiones de segundo grado, como es este caso, no es necesario aplicar regularización, ya que esto consiste en incluir términos cuadráticos y el modelo ya los incluye."
      ],
      "metadata": {
        "id": "mIzsPcvMvEha"
      }
    },
    {
      "cell_type": "code",
      "source": [
        "from sklearn.preprocessing import PolynomialFeatures\n",
        "#from sklearn.linear_model import Ridge"
      ],
      "metadata": {
        "id": "6vbWG5PFxi5M"
      },
      "execution_count": null,
      "outputs": []
    },
    {
      "cell_type": "markdown",
      "source": [
        "**Implementacion de modelo de segundo grado**"
      ],
      "metadata": {
        "id": "V-bEJPfEFeF0"
      }
    },
    {
      "cell_type": "code",
      "source": [
        "poly = PolynomialFeatures(degree=2)\n",
        "X_train_poly = poly.fit_transform(X_train)\n",
        "X_test_poly = poly.transform(X_test)\n",
        "X_val_poly = poly.transform(X_val)\n",
        "\n",
        "model2 = LinearRegression()\n",
        "model2.fit(X_train_poly, y_train)"
      ],
      "metadata": {
        "colab": {
          "base_uri": "https://localhost:8080/",
          "height": 75
        },
        "id": "ydM1syYI7k9P",
        "outputId": "71671196-ec8e-4858-8f27-e843b430a6be"
      },
      "execution_count": null,
      "outputs": [
        {
          "output_type": "execute_result",
          "data": {
            "text/plain": [
              "LinearRegression()"
            ],
            "text/html": [
              "<style>#sk-container-id-15 {color: black;background-color: white;}#sk-container-id-15 pre{padding: 0;}#sk-container-id-15 div.sk-toggleable {background-color: white;}#sk-container-id-15 label.sk-toggleable__label {cursor: pointer;display: block;width: 100%;margin-bottom: 0;padding: 0.3em;box-sizing: border-box;text-align: center;}#sk-container-id-15 label.sk-toggleable__label-arrow:before {content: \"▸\";float: left;margin-right: 0.25em;color: #696969;}#sk-container-id-15 label.sk-toggleable__label-arrow:hover:before {color: black;}#sk-container-id-15 div.sk-estimator:hover label.sk-toggleable__label-arrow:before {color: black;}#sk-container-id-15 div.sk-toggleable__content {max-height: 0;max-width: 0;overflow: hidden;text-align: left;background-color: #f0f8ff;}#sk-container-id-15 div.sk-toggleable__content pre {margin: 0.2em;color: black;border-radius: 0.25em;background-color: #f0f8ff;}#sk-container-id-15 input.sk-toggleable__control:checked~div.sk-toggleable__content {max-height: 200px;max-width: 100%;overflow: auto;}#sk-container-id-15 input.sk-toggleable__control:checked~label.sk-toggleable__label-arrow:before {content: \"▾\";}#sk-container-id-15 div.sk-estimator input.sk-toggleable__control:checked~label.sk-toggleable__label {background-color: #d4ebff;}#sk-container-id-15 div.sk-label input.sk-toggleable__control:checked~label.sk-toggleable__label {background-color: #d4ebff;}#sk-container-id-15 input.sk-hidden--visually {border: 0;clip: rect(1px 1px 1px 1px);clip: rect(1px, 1px, 1px, 1px);height: 1px;margin: -1px;overflow: hidden;padding: 0;position: absolute;width: 1px;}#sk-container-id-15 div.sk-estimator {font-family: monospace;background-color: #f0f8ff;border: 1px dotted black;border-radius: 0.25em;box-sizing: border-box;margin-bottom: 0.5em;}#sk-container-id-15 div.sk-estimator:hover {background-color: #d4ebff;}#sk-container-id-15 div.sk-parallel-item::after {content: \"\";width: 100%;border-bottom: 1px solid gray;flex-grow: 1;}#sk-container-id-15 div.sk-label:hover label.sk-toggleable__label {background-color: #d4ebff;}#sk-container-id-15 div.sk-serial::before {content: \"\";position: absolute;border-left: 1px solid gray;box-sizing: border-box;top: 0;bottom: 0;left: 50%;z-index: 0;}#sk-container-id-15 div.sk-serial {display: flex;flex-direction: column;align-items: center;background-color: white;padding-right: 0.2em;padding-left: 0.2em;position: relative;}#sk-container-id-15 div.sk-item {position: relative;z-index: 1;}#sk-container-id-15 div.sk-parallel {display: flex;align-items: stretch;justify-content: center;background-color: white;position: relative;}#sk-container-id-15 div.sk-item::before, #sk-container-id-15 div.sk-parallel-item::before {content: \"\";position: absolute;border-left: 1px solid gray;box-sizing: border-box;top: 0;bottom: 0;left: 50%;z-index: -1;}#sk-container-id-15 div.sk-parallel-item {display: flex;flex-direction: column;z-index: 1;position: relative;background-color: white;}#sk-container-id-15 div.sk-parallel-item:first-child::after {align-self: flex-end;width: 50%;}#sk-container-id-15 div.sk-parallel-item:last-child::after {align-self: flex-start;width: 50%;}#sk-container-id-15 div.sk-parallel-item:only-child::after {width: 0;}#sk-container-id-15 div.sk-dashed-wrapped {border: 1px dashed gray;margin: 0 0.4em 0.5em 0.4em;box-sizing: border-box;padding-bottom: 0.4em;background-color: white;}#sk-container-id-15 div.sk-label label {font-family: monospace;font-weight: bold;display: inline-block;line-height: 1.2em;}#sk-container-id-15 div.sk-label-container {text-align: center;}#sk-container-id-15 div.sk-container {/* jupyter's `normalize.less` sets `[hidden] { display: none; }` but bootstrap.min.css set `[hidden] { display: none !important; }` so we also need the `!important` here to be able to override the default hidden behavior on the sphinx rendered scikit-learn.org. See: https://github.com/scikit-learn/scikit-learn/issues/21755 */display: inline-block !important;position: relative;}#sk-container-id-15 div.sk-text-repr-fallback {display: none;}</style><div id=\"sk-container-id-15\" class=\"sk-top-container\"><div class=\"sk-text-repr-fallback\"><pre>LinearRegression()</pre><b>In a Jupyter environment, please rerun this cell to show the HTML representation or trust the notebook. <br />On GitHub, the HTML representation is unable to render, please try loading this page with nbviewer.org.</b></div><div class=\"sk-container\" hidden><div class=\"sk-item\"><div class=\"sk-estimator sk-toggleable\"><input class=\"sk-toggleable__control sk-hidden--visually\" id=\"sk-estimator-id-15\" type=\"checkbox\" checked><label for=\"sk-estimator-id-15\" class=\"sk-toggleable__label sk-toggleable__label-arrow\">LinearRegression</label><div class=\"sk-toggleable__content\"><pre>LinearRegression()</pre></div></div></div></div></div>"
            ]
          },
          "metadata": {},
          "execution_count": 97
        }
      ]
    },
    {
      "cell_type": "markdown",
      "source": [
        "**Evaluación del modelo**"
      ],
      "metadata": {
        "id": "s3MV3GMjx_HI"
      }
    },
    {
      "cell_type": "code",
      "source": [
        "#subset train\n",
        "y_train_pred = model2.predict(X_train_poly)\n",
        "mse_train = mean_squared_error(y_train, y_train_pred)\n",
        "mae_train = mean_absolute_error(y_train, y_train_pred)\n",
        "r2_train = r2_score(y_train, y_train_pred)\n",
        "\n",
        "print(\"subset de train\")\n",
        "print(f\"MSE en conjunto de train: {mse_train:.2f}\")\n",
        "print(f\"MAE en conjunto de train: {mae_train:.2f}\")\n",
        "print(f\"R2 en conjunto de train: {r2_train:.2f}\")"
      ],
      "metadata": {
        "colab": {
          "base_uri": "https://localhost:8080/"
        },
        "id": "81i5Eyyfj3Oy",
        "outputId": "8478d474-8fbb-4301-8950-8adf72c3bcb1"
      },
      "execution_count": null,
      "outputs": [
        {
          "output_type": "stream",
          "name": "stdout",
          "text": [
            "subset de train\n",
            "MSE en conjunto de train: 422.52\n",
            "MAE en conjunto de train: 10.81\n",
            "R2 en conjunto de train: 0.88\n"
          ]
        }
      ]
    },
    {
      "cell_type": "code",
      "source": [
        "#subset train\n",
        "y_val_pred = model2.predict(X_val_poly)\n",
        "mse_val = mean_squared_error(y_val, y_val_pred)\n",
        "mae_val = mean_absolute_error(y_val, y_val_pred)\n",
        "r2_val = r2_score(y_val, y_val_pred)\n",
        "\n",
        "print(\"subset de validacion\")\n",
        "print(f\"MSE en conjunto de validacion: {mse_val:.2f}\")\n",
        "print(f\"MAE en conjunto de validacion: {mae_val:.2f}\")\n",
        "print(f\"R2 en conjunto de validacion: {r2_val:.2f}\")"
      ],
      "metadata": {
        "colab": {
          "base_uri": "https://localhost:8080/"
        },
        "id": "eYR4XAo4kPp6",
        "outputId": "ac872bd5-fb62-471f-cd03-466e98024c4a"
      },
      "execution_count": null,
      "outputs": [
        {
          "output_type": "stream",
          "name": "stdout",
          "text": [
            "subset de validacion\n",
            "MSE en conjunto de validacion: 403.82\n",
            "MAE en conjunto de validacion: 10.56\n",
            "R2 en conjunto de validacion: 0.88\n"
          ]
        }
      ]
    },
    {
      "cell_type": "code",
      "source": [
        "#subset prueba\n",
        "y_test_pred = model2.predict(X_test_poly)\n",
        "mse_test = mean_squared_error(y_test, y_test_pred)\n",
        "mae_test = mean_absolute_error(y_test, y_test_pred)\n",
        "r2_test = r2_score(y_test, y_test_pred)\n",
        "\n",
        "print(\"subset de test\")\n",
        "print(f\"MSE en conjunto de test: {mse_test:.2f}\")\n",
        "print(f\"MAE en conjunto de test: {mae_test:.2f}\")\n",
        "print(f\"R2 en conjunto de test: {r2_test:.2f}\")"
      ],
      "metadata": {
        "colab": {
          "base_uri": "https://localhost:8080/"
        },
        "id": "NmRihb2wyEUc",
        "outputId": "e1f92fa5-6579-45e7-df26-7970e753dd40"
      },
      "execution_count": null,
      "outputs": [
        {
          "output_type": "stream",
          "name": "stdout",
          "text": [
            "subset de test\n",
            "MSE en conjunto de test: 434.67\n",
            "MAE en conjunto de test: 11.09\n",
            "R2 en conjunto de test: 0.87\n"
          ]
        }
      ]
    },
    {
      "cell_type": "markdown",
      "source": [
        "**Diagnostico de sesgo o bias**\n",
        "\n",
        "En este modelo, con regresión de segundo grado, los datos parecen ajustarse mejor a la curva pero hay regiones donde aún hay errores notorios, por lo que el modelo tiene sesgo medio."
      ],
      "metadata": {
        "id": "_wwaa6csFm7D"
      }
    },
    {
      "cell_type": "code",
      "source": [
        "y_test_pred = model2.predict(X_test_poly)\n",
        "\n",
        "plt.figure(figsize=(12, 6))\n",
        "plt.subplot(1, 2, 2)\n",
        "#X.values.reshape(-1, 1)\n",
        "plt.scatter(X.values.reshape(-1, 1), y, label='Datos', color='b')\n",
        "plt.plot(X_test, y_test_pred, label='Regresión Polinómica de 2º grado', color='r',marker='o', linestyle='',)\n",
        "plt.xlabel('Característica')\n",
        "plt.ylabel('Objetivo')\n",
        "plt.legend()\n",
        "plt.title('Regresión Polinómica de 2º Grado')\n",
        "plt.grid(True)\n",
        "plt.show()\n",
        "\n",
        "\n"
      ],
      "metadata": {
        "colab": {
          "base_uri": "https://localhost:8080/",
          "height": 565
        },
        "id": "MjDPWmW4BTRu",
        "outputId": "33102c84-5efb-4b97-ac10-4d8c1e9bef5e"
      },
      "execution_count": null,
      "outputs": [
        {
          "output_type": "display_data",
          "data": {
            "text/plain": [
              "<Figure size 1200x600 with 1 Axes>"
            ],
            "image/png": "[encoded data removed]"
          },
          "metadata": {}
        }
      ]
    },
    {
      "cell_type": "markdown",
      "source": [
        "**Curvas de aprendizaje**\n",
        "\n",
        "Al igual que antes, en la curva de aprendizaje vemos que el error parece estabilizarse en cierto punto sin importar el tamaño del conjunto de Train por lo que la varianza sigue siendo baja."
      ],
      "metadata": {
        "id": "r7S4SaRHFsE9"
      }
    },
    {
      "cell_type": "code",
      "source": [
        "#curvas de aprendizaje\n",
        "\n",
        "from sklearn.model_selection import learning_curve\n",
        "train_sizes, train_scores, test_scores = learning_curve(model2, X.values.reshape(-1,1), y.values.reshape(-1,1), cv=5, scoring='neg_mean_squared_error')\n",
        "\n",
        "# Calcular las medias y desviaciones estándar de los puntajes\n",
        "train_mean = -np.mean(train_scores, axis=1)\n",
        "train_std = np.std(train_scores, axis=1)\n",
        "test_mean = -np.mean(test_scores, axis=1)\n",
        "test_std = np.std(test_scores, axis=1)\n",
        "\n",
        "# Crear el gráfico de curvas de aprendizaje\n",
        "plt.figure(figsize=(10, 6))\n",
        "plt.plot(train_sizes, train_mean, label='Entrenamiento', marker='o', linestyle='-')\n",
        "plt.fill_between(train_sizes, train_mean - train_std, train_mean + train_std, alpha=0.15)\n",
        "plt.plot(train_sizes, test_mean, label='Validación', marker='o', linestyle='-')\n",
        "plt.fill_between(train_sizes, test_mean - test_std, test_mean + test_std, alpha=0.15)\n",
        "plt.xlabel('Tamaño del Conjunto de Entrenamiento')\n",
        "plt.ylabel('Error Cuadrático Medio')\n",
        "plt.legend()\n",
        "plt.title('Curva de Aprendizaje')\n",
        "plt.grid(True)\n",
        "plt.show()"
      ],
      "metadata": {
        "colab": {
          "base_uri": "https://localhost:8080/",
          "height": 564
        },
        "id": "C8spN-EAyzBq",
        "outputId": "ab62c880-68a8-4af6-ed29-852c176a4629"
      },
      "execution_count": null,
      "outputs": [
        {
          "output_type": "display_data",
          "data": {
            "text/plain": [
              "<Figure size 1000x600 with 1 Axes>"
            ],
            "image/png": "[encoded data removed]"
          },
          "metadata": {}
        }
      ]
    },
    {
      "cell_type": "markdown",
      "source": [
        "**Diagnostico del nivel de ajuste del modelo**\n",
        "\n",
        "El error MSE si disminuyo considerablemente, pero sigue siendo algo grande, sin embargo en la gráfica se observa que los datos se ajustan mucho mejor a la curva por lo que podriamos decir que el modelo si está aprendiendo de mejor manera y esto significa que si tiene fiting."
      ],
      "metadata": {
        "id": "HTiKy9J4wmnF"
      }
    },
    {
      "cell_type": "code",
      "source": [
        "y_test_pred = model2.predict(X_test_poly)\n",
        "\n",
        "plt.figure(figsize=(12, 6))\n",
        "plt.subplot(1, 2, 2)\n",
        "#X.values.reshape(-1, 1)\n",
        "plt.scatter(X.values.reshape(-1, 1), y, label='Datos', color='b')\n",
        "plt.plot(X_test, y_test_pred, label='Regresión Polinómica de 2º grado', color='r',marker='o', linestyle='',)\n",
        "plt.xlabel('Característica')\n",
        "plt.ylabel('Objetivo')\n",
        "plt.legend()\n",
        "plt.title('Regresión Polinómica de 2º Grado')\n",
        "plt.grid(True)\n",
        "plt.show()"
      ],
      "metadata": {
        "id": "8aViEzk61eGA"
      },
      "execution_count": null,
      "outputs": []
    },
    {
      "cell_type": "markdown",
      "source": [
        "**Conclusiones:**\n",
        "\n",
        "El segundo modelo tuvo mejor desempeño que el primero, ya que se usó una regresion de segundo grado. Los datos se ajustaron mejor a la curva y el error disminuyó."
      ],
      "metadata": {
        "id": "hkmG3bXlGJ36"
      }
    }
  ]
}